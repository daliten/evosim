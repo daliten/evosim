{
 "cells": [
  {
   "cell_type": "markdown",
   "id": "c4464861",
   "metadata": {},
   "source": [
    "# _evosim_ EnsembleSimulator mode example: cancer patient cohort\n",
    "### In this example, we will use the Simulator mode to generate a patient population by evolving a set of tumors up to detectable size from a single cell under a variety of simulation parameters drawn from distributions in order to simulate inter-patient tumor heterogeneity. We will then use the EnsembleSimulator mode to set up a standard therapeutic plan (resection followed by adjuvant therapy and subsequent monitoring) and perform retrospective survival analysis of the data.\n",
    "\n",
    "Note: No pharmacokinetic modeling is used here, so that drug concentrations are assumed to reach all cells at their stated concentrations. Pharmacokinetic modeling can be implemented into the drug response if desired.\n",
    "Note: Two of the cells take between 30 seconds and a minute to execute."
   ]
  },
  {
   "cell_type": "code",
   "execution_count": 1,
   "id": "50ab8b72",
   "metadata": {},
   "outputs": [],
   "source": [
    "# these are not necessary for evosim functionalities, but we will use them elsewhere in the \n",
    "#tutorial to visualize some of the results\n",
    "import matplotlib.pyplot as plt\n",
    "import numpy as np\n",
    "import time\n",
    "import pandas as pd\n",
    "from lifelines import KaplanMeierFitter,CoxPHFitter\n",
    "import seaborn as sns\n",
    "from scipy import stats\n",
    "import random"
   ]
  },
  {
   "cell_type": "code",
   "execution_count": 2,
   "id": "2b8cf775",
   "metadata": {},
   "outputs": [],
   "source": [
    "#Included here for reproducibility\n",
    "np.random.seed(7)\n",
    "random.seed(2)"
   ]
  },
  {
   "cell_type": "code",
   "execution_count": 3,
   "id": "ca61bc6d",
   "metadata": {},
   "outputs": [],
   "source": [
    "# import the Simulator and EnsembleSimulator modules\n",
    "from evosim import Simulator,EnsembleSimulator"
   ]
  },
  {
   "cell_type": "code",
   "execution_count": 4,
   "id": "aaf21ecc",
   "metadata": {},
   "outputs": [],
   "source": [
    "sim=Simulator()\n",
    "esim=EnsembleSimulator()"
   ]
  },
  {
   "cell_type": "markdown",
   "id": "8d8ba977",
   "metadata": {},
   "source": [
    "We will generate up to 50 tumors by evolving them under varying parameters starting from a single cell and detecting them at various sizes. As in the Simulator tumor example, for simplicity of demonstration we will assume that up to 3 phenotypes are possible. "
   ]
  },
  {
   "cell_type": "markdown",
   "id": "d5ecfcb6",
   "metadata": {},
   "source": [
    "Our initial configuration (1 cell) will be identical in this case for all runs."
   ]
  },
  {
   "cell_type": "code",
   "execution_count": 5,
   "id": "966e8891",
   "metadata": {},
   "outputs": [],
   "source": [
    "initial_subpopulations = {'A':1,'B':0,'C':0} #These are the initial population levels of all phenotypes\n",
    "\n",
    "cell_types=list(initial_subpopulations.keys())\n",
    "num_types=len(cell_types)"
   ]
  },
  {
   "cell_type": "markdown",
   "id": "39483e58",
   "metadata": {},
   "source": [
    "For notational simplicity we define below the function that assigns the mutation dictionary."
   ]
  },
  {
   "cell_type": "code",
   "execution_count": 6,
   "id": "edb20d27",
   "metadata": {},
   "outputs": [],
   "source": [
    "def assign_mut(mut_probs):\n",
    "    [MUT_PROB_AB,MUT_PROB_AC,MUT_PROB_BC]=mut_probs\n",
    "    return {'A': {'B': MUT_PROB_AB,'C':MUT_PROB_AC}, 'B': {'A':MUT_PROB_AB,'C':MUT_PROB_BC},\\\n",
    "           'C': {'A': MUT_PROB_AC,'B':MUT_PROB_BC}} #change if want fewer or more species"
   ]
  },
  {
   "cell_type": "markdown",
   "id": "06cefc9f",
   "metadata": {},
   "source": [
    "We will allow up to 25 years for a tumor to evolve and set the detection limit as our primary endpoint. To simulate realistic biological diversity, we will draw the mutation probabilities, birth, and death rates from distributions. Since we are starting from a single cell, some simulations will result in the death of that cell due to demographic stochasticity and hence terminate early at zero cells. Here, we will build a list of the final configuration of all tumors that reached detectable size."
   ]
  },
  {
   "cell_type": "code",
   "execution_count": 7,
   "id": "16d9f883",
   "metadata": {},
   "outputs": [],
   "source": [
    "num_tumors=60\n",
    "tumor_configurations={}\n",
    "tumor_b_rates={}\n",
    "tumor_d_rates={}\n",
    "tumor_mut_probs={}\n",
    "tumor_sizes=[]\n",
    "nonzero_tumor_sizes=[]\n",
    "tstart=time.perf_counter()\n",
    "for tumor in range(num_tumors):\n",
    "    sim.initialize(initial_subpopulations, carrying_capacity=10**12, new_folder=False)\n",
    "    mut_probs = assign_mut(10**(-np.random.lognormal(np.log(4),0.2,num_types)))\n",
    "    #Let's randomize the birth and death rates by drawing them from ..\n",
    "    b_rates_list=np.random.lognormal(np.log(0.0035),0.25,num_types)\n",
    "    d_rates_list=np.random.lognormal(np.log(0.00035),0.2,num_types)\n",
    "    b_rates={cell_types[i]:b_rates_list[i] for i in range(num_types)}\n",
    "    d_rates={cell_types[i]:d_rates_list[i] for i in range(num_types)}\n",
    "    detect_at=10**np.random.uniform(9,10.5)\n",
    "    sim.evolve(max_sim_time=365*25,recording_interval = 365,\\\n",
    "               birth_rates=b_rates,death_rates=d_rates,mut_probs=mut_probs,detection_threshold=detect_at,\\\n",
    "              quit_at_zero_cells = True) \n",
    "    #Quitting at zero cells (optional argument) is the default; we show it here for contrast with a later call.\n",
    "    #Since we don't want to waste time on evolving empty populations here, we keep the default.\n",
    "    if sim.pop_total()>=detect_at:\n",
    "        tumor_configurations[tumor]=sim.pop_distribution()\n",
    "        tumor_b_rates[tumor]=b_rates\n",
    "        tumor_d_rates[tumor]=d_rates\n",
    "        tumor_mut_probs[tumor]=mut_probs\n",
    "        tumor_sizes.append(sim.pop_total())\n",
    "    if sim.pop_total()>0:\n",
    "        nonzero_tumor_sizes.append(sim.pop_total())\n",
    "tstop=time.perf_counter()"
   ]
  },
  {
   "cell_type": "code",
   "execution_count": 8,
   "id": "3c324885",
   "metadata": {},
   "outputs": [
    {
     "name": "stdout",
     "output_type": "stream",
     "text": [
      "58 non-zero sized tumors were generated, with an average size of 8.082015e+09 cells.\n",
      "This took 63.18188655700001 seconds.\n",
      "45 tumors were detected, with an average size of 9.093195e+09 cells.\n"
     ]
    }
   ],
   "source": [
    "print(str(len(nonzero_tumor_sizes))+' non-zero sized tumors were generated, with an average size of {:e}'.format(np.mean(nonzero_tumor_sizes))+ ' cells.')\n",
    "print('This took '+str(tstop-tstart)+' seconds.')\n",
    "print(str(len(tumor_sizes))+' tumors were detected, with an average size of {:e}'.format(np.mean(tumor_sizes))+ ' cells.')"
   ]
  },
  {
   "cell_type": "markdown",
   "id": "bc333f42",
   "metadata": {},
   "source": [
    "Note that we have kept track not only of the final distributions, but also of the demographic parameters that we will need in order to continue evolving the tumors under treatment. Since many tumors still fall below the detection limit, they are not included in subsequent analysis."
   ]
  },
  {
   "cell_type": "markdown",
   "id": "5a022d64",
   "metadata": {},
   "source": [
    "Let's look at what the first few tumors look like:"
   ]
  },
  {
   "cell_type": "code",
   "execution_count": 10,
   "id": "765bccb7",
   "metadata": {},
   "outputs": [
    {
     "data": {
      "text/plain": [
       "[{'A': 3738019607, 'B': 42856, 'C': 6074627},\n",
       " {'A': 3745957632, 'B': 2047973, 'C': 13576596},\n",
       " {'A': 20574884237, 'B': 562957424, 'C': 30562114},\n",
       " {'A': 1045729416, 'B': 390716, 'C': 1433948},\n",
       " {'A': 837822457, 'B': 2646095800, 'C': 11797545}]"
      ]
     },
     "execution_count": 10,
     "metadata": {},
     "output_type": "execute_result"
    }
   ],
   "source": [
    "list(tumor_configurations.values())[0:5]"
   ]
  },
  {
   "cell_type": "markdown",
   "id": "a86b7076",
   "metadata": {},
   "source": [
    "We will now take these configurations as our patient cohort, and use the EnsembleSimulator mode to resect and treat these in a similar fashion to Simulator Example 1: tumor evolution and progression. We will use the same functional dependences and parameters for the adjuvant therapy as in Simulator Example 1."
   ]
  },
  {
   "cell_type": "code",
   "execution_count": 11,
   "id": "b0c3a482",
   "metadata": {},
   "outputs": [],
   "source": [
    "def Hill_eqn(C,IC50,n):\n",
    "    return 1/(1+(C/IC50)**n)\n",
    "def drug_birth_rate(drug_free_birth_rate,C,IC50,n):\n",
    "    return drug_free_birth_rate*Hill_eqn(C,IC50,n)\n",
    "def drug_death_rate(drug_free_death_rate,C,IC50,n):\n",
    "    return drug_free_death_rate*(1+C/IC50)**n\n",
    "\n",
    "IC50_levels_targeted_drug={'A':1,'B':1,'C':10}\n",
    "IC50_levels_chemo={'A':1,'B':1,'C':100}\n",
    "#for an alternative parameterization where resistance is more uniform and concentrated in the targeted drug, try:\n",
    "#IC50_levels_targeted_drug={'A':2,'B':2,'C':8}\n",
    "#IC50_levels_chemo={'A':2,'B':2,'C':2}\n",
    "\n",
    "concentration_targeted=5\n",
    "concentration_chemo=5"
   ]
  },
  {
   "cell_type": "markdown",
   "id": "6e4a779a",
   "metadata": {},
   "source": [
    "First we need to initialize the ensemble:"
   ]
  },
  {
   "cell_type": "code",
   "execution_count": 12,
   "id": "10da9040",
   "metadata": {},
   "outputs": [],
   "source": [
    "esim.initialize(carrying_capacity=10**12) #Using the same carrying capacity for all tumors"
   ]
  },
  {
   "cell_type": "markdown",
   "id": "d27371f9",
   "metadata": {},
   "source": [
    "We will now create a therapeutic plan that we apply to all tumors. Note that in this simple example we apply the same plan to all tumors, but the EnsembleSimulator mode does not require standardization: its usefulness is in storing multiple runs, each of which can be run differently. In either a standard or customized setting, each run is declated through the esim.reset(...) call, which identifies the run number (here, \"tumor\") and the population structure at the start of the run. Subsequent actions (such as dilutions and calls to esim.evolve(...)) all apply to the run that was declared at reset, until a new call to esim.reset(...).\n",
    "\n",
    "In this example, we first apply a resection via the dilution mode, and then use the demographic parameters associated with that tumor (that we have previously stored) to evolve it under adjuvant therapy for up to 6 months and then without therapy under twice-yearly monitoring for up to 15 years. Note that a simulation ends if/when the total number of cells reaches 0 **or** if a recurrence is detected, which we set at 10^7 total size under the assumption that with monitoring earlier detection (hence at smaller size) is enabled.\n",
    "\n",
    "You will note below that we have set the optional quit_at_zero_cells argument to False: this is because in a clinical situation we don't know if the tumor has been fully eliminated, and these patients will continue to be treated/observed."
   ]
  },
  {
   "cell_type": "code",
   "execution_count": 13,
   "id": "7a6cc268",
   "metadata": {},
   "outputs": [],
   "source": [
    "tstart=time.perf_counter()\n",
    "for tumor in tumor_configurations.keys():\n",
    "    esim.reset(tumor,pop_structure=tumor_configurations[tumor])\n",
    "    remaining_cells_after_resection = np.random.lognormal(np.log(10**4),1)\n",
    "    esim.perform_dilution(remaining_cells_after_resection,dilution_time=0.1)\n",
    "    birth_rates=tumor_b_rates[tumor]\n",
    "    death_rates=tumor_d_rates[tumor]\n",
    "    mut_probs=tumor_mut_probs[tumor]\n",
    "    new_birth_rates={cell_type:drug_birth_rate(birth_rates[cell_type],concentration_targeted,\\\n",
    "                                           IC50_levels_targeted_drug[cell_type],3) for cell_type in cell_types}\n",
    "    new_death_rates={cell_type:drug_death_rate(death_rates[cell_type],concentration_chemo,\\\n",
    "                                           IC50_levels_chemo[cell_type],3) for cell_type in cell_types}\n",
    "\n",
    "    esim.evolve(max_sim_time = 30*6,recording_interval = 30,birth_rates = new_birth_rates,\\\n",
    "                    death_rates=new_death_rates,mut_probs=mut_probs,quit_at_zero_cells=False)\n",
    "\n",
    "    esim.evolve(max_sim_time = 15*365,recording_interval = 6*30,birth_rates = birth_rates,\\\n",
    "                    death_rates=death_rates,mut_probs=mut_probs,detection_threshold=10**7,quit_at_zero_cells=False)\n",
    "tstop=time.perf_counter()"
   ]
  },
  {
   "cell_type": "code",
   "execution_count": 14,
   "id": "9234e961",
   "metadata": {},
   "outputs": [
    {
     "name": "stdout",
     "output_type": "stream",
     "text": [
      "Evolving 45 tumors for up to 15.5 years took 34.020069643 seconds.\n"
     ]
    }
   ],
   "source": [
    "print('Evolving '+str(len(tumor_sizes))+' tumors for up to 15.5 years took '+str(tstop-tstart)+' seconds.')"
   ]
  },
  {
   "cell_type": "markdown",
   "id": "65a0da5e",
   "metadata": {},
   "source": [
    "Let's look at what these trajectories look like. We can draw a line (hline) at the detection threshold to better see when recurrences have occurred in this cohort. "
   ]
  },
  {
   "cell_type": "code",
   "execution_count": 15,
   "id": "3b0bd0f4",
   "metadata": {},
   "outputs": [
    {
     "data": {
      "image/png": "[encoded data removed]",
      "text/plain": [
       "<Figure size 576x360 with 1 Axes>"
      ]
     },
     "metadata": {
      "needs_background": "light"
     },
     "output_type": "display_data"
    }
   ],
   "source": [
    "esim.plot_total_trajectories(scale='log',time_conversion='days_to_years',hline=10**7)"
   ]
  },
  {
   "cell_type": "markdown",
   "id": "89687473",
   "metadata": {},
   "source": [
    "There's a lot of variability here! Let's do some survival analysis on this. The time at which the population hits the detection limit of 10^7 (if at all) is the recurrence time, or the time associated with disease progression. We will first organize the data into a table formatted for survival analysis that includes a column indicating whether the observation was right-censored (here, no recurrence yet at the 15-year post-adjuvant time point)."
   ]
  },
  {
   "cell_type": "code",
   "execution_count": 58,
   "id": "94c98dbb",
   "metadata": {},
   "outputs": [],
   "source": [
    "final_times=pd.DataFrame.from_dict(esim.times_final(),orient='index').rename(columns={0:'Last observation'})\n",
    "final_pops=pd.DataFrame.from_dict(esim.populations_final(),orient='index').rename(columns={0:'Pop'})\n",
    "patient_data=pd.concat([(final_times-0.1)/365,final_pops],1)\n",
    "patient_data['Progressed']=1*(patient_data['Pop']>=10**7)\n",
    "patient_data['Status']=1*((patient_data['Last observation']<=15.5) | (patient_data['Pop']>=10**7)) #Status = 1 means uncensored\n",
    "patient_data=patient_data.drop('Pop',1)"
   ]
  },
  {
   "cell_type": "code",
   "execution_count": 47,
   "id": "fb54485c",
   "metadata": {},
   "outputs": [
    {
     "data": {
      "text/html": [
       "<div>\n",
       "<style scoped>\n",
       "    .dataframe tbody tr th:only-of-type {\n",
       "        vertical-align: middle;\n",
       "    }\n",
       "\n",
       "    .dataframe tbody tr th {\n",
       "        vertical-align: top;\n",
       "    }\n",
       "\n",
       "    .dataframe thead th {\n",
       "        text-align: right;\n",
       "    }\n",
       "</style>\n",
       "<table border=\"1\" class=\"dataframe\">\n",
       "  <thead>\n",
       "    <tr style=\"text-align: right;\">\n",
       "      <th></th>\n",
       "      <th>Last observation</th>\n",
       "      <th>Progressed</th>\n",
       "      <th>Status</th>\n",
       "    </tr>\n",
       "  </thead>\n",
       "  <tbody>\n",
       "    <tr>\n",
       "      <th>0</th>\n",
       "      <td>13.682690</td>\n",
       "      <td>1</td>\n",
       "      <td>1</td>\n",
       "    </tr>\n",
       "    <tr>\n",
       "      <th>1</th>\n",
       "      <td>11.186433</td>\n",
       "      <td>1</td>\n",
       "      <td>1</td>\n",
       "    </tr>\n",
       "    <tr>\n",
       "      <th>4</th>\n",
       "      <td>15.780822</td>\n",
       "      <td>0</td>\n",
       "      <td>0</td>\n",
       "    </tr>\n",
       "    <tr>\n",
       "      <th>5</th>\n",
       "      <td>11.205742</td>\n",
       "      <td>1</td>\n",
       "      <td>1</td>\n",
       "    </tr>\n",
       "    <tr>\n",
       "      <th>6</th>\n",
       "      <td>11.878228</td>\n",
       "      <td>1</td>\n",
       "      <td>1</td>\n",
       "    </tr>\n",
       "    <tr>\n",
       "      <th>7</th>\n",
       "      <td>15.780822</td>\n",
       "      <td>0</td>\n",
       "      <td>0</td>\n",
       "    </tr>\n",
       "    <tr>\n",
       "      <th>9</th>\n",
       "      <td>15.780822</td>\n",
       "      <td>0</td>\n",
       "      <td>0</td>\n",
       "    </tr>\n",
       "    <tr>\n",
       "      <th>11</th>\n",
       "      <td>15.780822</td>\n",
       "      <td>0</td>\n",
       "      <td>0</td>\n",
       "    </tr>\n",
       "    <tr>\n",
       "      <th>12</th>\n",
       "      <td>13.043845</td>\n",
       "      <td>1</td>\n",
       "      <td>1</td>\n",
       "    </tr>\n",
       "    <tr>\n",
       "      <th>13</th>\n",
       "      <td>6.055720</td>\n",
       "      <td>1</td>\n",
       "      <td>1</td>\n",
       "    </tr>\n",
       "    <tr>\n",
       "      <th>14</th>\n",
       "      <td>4.300564</td>\n",
       "      <td>1</td>\n",
       "      <td>1</td>\n",
       "    </tr>\n",
       "    <tr>\n",
       "      <th>15</th>\n",
       "      <td>12.912987</td>\n",
       "      <td>1</td>\n",
       "      <td>1</td>\n",
       "    </tr>\n",
       "    <tr>\n",
       "      <th>16</th>\n",
       "      <td>15.780822</td>\n",
       "      <td>0</td>\n",
       "      <td>0</td>\n",
       "    </tr>\n",
       "    <tr>\n",
       "      <th>17</th>\n",
       "      <td>10.040999</td>\n",
       "      <td>1</td>\n",
       "      <td>1</td>\n",
       "    </tr>\n",
       "    <tr>\n",
       "      <th>18</th>\n",
       "      <td>12.744966</td>\n",
       "      <td>1</td>\n",
       "      <td>1</td>\n",
       "    </tr>\n",
       "    <tr>\n",
       "      <th>19</th>\n",
       "      <td>15.780822</td>\n",
       "      <td>0</td>\n",
       "      <td>0</td>\n",
       "    </tr>\n",
       "    <tr>\n",
       "      <th>20</th>\n",
       "      <td>6.789010</td>\n",
       "      <td>1</td>\n",
       "      <td>1</td>\n",
       "    </tr>\n",
       "    <tr>\n",
       "      <th>21</th>\n",
       "      <td>7.915905</td>\n",
       "      <td>1</td>\n",
       "      <td>1</td>\n",
       "    </tr>\n",
       "    <tr>\n",
       "      <th>22</th>\n",
       "      <td>13.851548</td>\n",
       "      <td>1</td>\n",
       "      <td>1</td>\n",
       "    </tr>\n",
       "    <tr>\n",
       "      <th>23</th>\n",
       "      <td>8.624540</td>\n",
       "      <td>1</td>\n",
       "      <td>1</td>\n",
       "    </tr>\n",
       "    <tr>\n",
       "      <th>25</th>\n",
       "      <td>14.000319</td>\n",
       "      <td>1</td>\n",
       "      <td>1</td>\n",
       "    </tr>\n",
       "    <tr>\n",
       "      <th>27</th>\n",
       "      <td>15.780822</td>\n",
       "      <td>0</td>\n",
       "      <td>0</td>\n",
       "    </tr>\n",
       "    <tr>\n",
       "      <th>29</th>\n",
       "      <td>11.068326</td>\n",
       "      <td>1</td>\n",
       "      <td>1</td>\n",
       "    </tr>\n",
       "    <tr>\n",
       "      <th>30</th>\n",
       "      <td>13.190928</td>\n",
       "      <td>1</td>\n",
       "      <td>1</td>\n",
       "    </tr>\n",
       "    <tr>\n",
       "      <th>33</th>\n",
       "      <td>8.507145</td>\n",
       "      <td>1</td>\n",
       "      <td>1</td>\n",
       "    </tr>\n",
       "    <tr>\n",
       "      <th>34</th>\n",
       "      <td>15.780822</td>\n",
       "      <td>0</td>\n",
       "      <td>0</td>\n",
       "    </tr>\n",
       "    <tr>\n",
       "      <th>35</th>\n",
       "      <td>13.198996</td>\n",
       "      <td>1</td>\n",
       "      <td>1</td>\n",
       "    </tr>\n",
       "    <tr>\n",
       "      <th>37</th>\n",
       "      <td>15.780822</td>\n",
       "      <td>0</td>\n",
       "      <td>0</td>\n",
       "    </tr>\n",
       "    <tr>\n",
       "      <th>40</th>\n",
       "      <td>9.711772</td>\n",
       "      <td>1</td>\n",
       "      <td>1</td>\n",
       "    </tr>\n",
       "    <tr>\n",
       "      <th>41</th>\n",
       "      <td>15.780822</td>\n",
       "      <td>0</td>\n",
       "      <td>0</td>\n",
       "    </tr>\n",
       "    <tr>\n",
       "      <th>42</th>\n",
       "      <td>10.953245</td>\n",
       "      <td>1</td>\n",
       "      <td>1</td>\n",
       "    </tr>\n",
       "    <tr>\n",
       "      <th>43</th>\n",
       "      <td>15.780822</td>\n",
       "      <td>0</td>\n",
       "      <td>0</td>\n",
       "    </tr>\n",
       "    <tr>\n",
       "      <th>44</th>\n",
       "      <td>9.665429</td>\n",
       "      <td>1</td>\n",
       "      <td>1</td>\n",
       "    </tr>\n",
       "    <tr>\n",
       "      <th>45</th>\n",
       "      <td>14.425395</td>\n",
       "      <td>1</td>\n",
       "      <td>1</td>\n",
       "    </tr>\n",
       "    <tr>\n",
       "      <th>46</th>\n",
       "      <td>8.335149</td>\n",
       "      <td>1</td>\n",
       "      <td>1</td>\n",
       "    </tr>\n",
       "    <tr>\n",
       "      <th>48</th>\n",
       "      <td>13.267040</td>\n",
       "      <td>1</td>\n",
       "      <td>1</td>\n",
       "    </tr>\n",
       "    <tr>\n",
       "      <th>49</th>\n",
       "      <td>15.500402</td>\n",
       "      <td>1</td>\n",
       "      <td>1</td>\n",
       "    </tr>\n",
       "    <tr>\n",
       "      <th>50</th>\n",
       "      <td>4.160143</td>\n",
       "      <td>1</td>\n",
       "      <td>1</td>\n",
       "    </tr>\n",
       "    <tr>\n",
       "      <th>51</th>\n",
       "      <td>14.985750</td>\n",
       "      <td>1</td>\n",
       "      <td>1</td>\n",
       "    </tr>\n",
       "    <tr>\n",
       "      <th>52</th>\n",
       "      <td>3.494763</td>\n",
       "      <td>1</td>\n",
       "      <td>1</td>\n",
       "    </tr>\n",
       "    <tr>\n",
       "      <th>53</th>\n",
       "      <td>6.683360</td>\n",
       "      <td>1</td>\n",
       "      <td>1</td>\n",
       "    </tr>\n",
       "    <tr>\n",
       "      <th>54</th>\n",
       "      <td>13.201646</td>\n",
       "      <td>1</td>\n",
       "      <td>1</td>\n",
       "    </tr>\n",
       "    <tr>\n",
       "      <th>55</th>\n",
       "      <td>10.849065</td>\n",
       "      <td>1</td>\n",
       "      <td>1</td>\n",
       "    </tr>\n",
       "    <tr>\n",
       "      <th>56</th>\n",
       "      <td>15.780822</td>\n",
       "      <td>0</td>\n",
       "      <td>0</td>\n",
       "    </tr>\n",
       "    <tr>\n",
       "      <th>58</th>\n",
       "      <td>10.561450</td>\n",
       "      <td>1</td>\n",
       "      <td>1</td>\n",
       "    </tr>\n",
       "  </tbody>\n",
       "</table>\n",
       "</div>"
      ],
      "text/plain": [
       "    Last observation  Progressed  Status\n",
       "0          13.682690           1       1\n",
       "1          11.186433           1       1\n",
       "4          15.780822           0       0\n",
       "5          11.205742           1       1\n",
       "6          11.878228           1       1\n",
       "7          15.780822           0       0\n",
       "9          15.780822           0       0\n",
       "11         15.780822           0       0\n",
       "12         13.043845           1       1\n",
       "13          6.055720           1       1\n",
       "14          4.300564           1       1\n",
       "15         12.912987           1       1\n",
       "16         15.780822           0       0\n",
       "17         10.040999           1       1\n",
       "18         12.744966           1       1\n",
       "19         15.780822           0       0\n",
       "20          6.789010           1       1\n",
       "21          7.915905           1       1\n",
       "22         13.851548           1       1\n",
       "23          8.624540           1       1\n",
       "25         14.000319           1       1\n",
       "27         15.780822           0       0\n",
       "29         11.068326           1       1\n",
       "30         13.190928           1       1\n",
       "33          8.507145           1       1\n",
       "34         15.780822           0       0\n",
       "35         13.198996           1       1\n",
       "37         15.780822           0       0\n",
       "40          9.711772           1       1\n",
       "41         15.780822           0       0\n",
       "42         10.953245           1       1\n",
       "43         15.780822           0       0\n",
       "44          9.665429           1       1\n",
       "45         14.425395           1       1\n",
       "46          8.335149           1       1\n",
       "48         13.267040           1       1\n",
       "49         15.500402           1       1\n",
       "50          4.160143           1       1\n",
       "51         14.985750           1       1\n",
       "52          3.494763           1       1\n",
       "53          6.683360           1       1\n",
       "54         13.201646           1       1\n",
       "55         10.849065           1       1\n",
       "56         15.780822           0       0\n",
       "58         10.561450           1       1"
      ]
     },
     "execution_count": 47,
     "metadata": {},
     "output_type": "execute_result"
    }
   ],
   "source": [
    "patient_data"
   ]
  },
  {
   "cell_type": "markdown",
   "id": "839f4d00",
   "metadata": {},
   "source": [
    "We will use both the Kaplan-Meier fitter and Cox proportional hazard regression modes of the Python lifelines package."
   ]
  },
  {
   "cell_type": "code",
   "execution_count": 18,
   "id": "458bc9d7",
   "metadata": {},
   "outputs": [],
   "source": [
    "kmf = KaplanMeierFitter()"
   ]
  },
  {
   "cell_type": "code",
   "execution_count": 19,
   "id": "8fd97f8d",
   "metadata": {},
   "outputs": [
    {
     "data": {
      "image/png": "[encoded data removed]",
      "text/plain": [
       "<Figure size 432x288 with 1 Axes>"
      ]
     },
     "metadata": {
      "needs_background": "light"
     },
     "output_type": "display_data"
    }
   ],
   "source": [
    "kmf.fit(patient_data['Last observation'],patient_data['Status'],label='KM fit').plot_survival_function()\n",
    "plt.show()"
   ]
  },
  {
   "cell_type": "code",
   "execution_count": 65,
   "id": "c060fcda",
   "metadata": {},
   "outputs": [
    {
     "data": {
      "text/plain": [
       "13.043844699239633"
      ]
     },
     "execution_count": 65,
     "metadata": {},
     "output_type": "execute_result"
    }
   ],
   "source": [
    "kmf.median_survival_time_"
   ]
  },
  {
   "cell_type": "markdown",
   "id": "613bcc7d",
   "metadata": {},
   "source": [
    "Let's take the 10-year mark as our endpoint for patient stratification. We will define responders (R_patients) as patients who have not yet had a recurrence at 10 years post-adjuvant and non-responders (NR_patients) as those who have."
   ]
  },
  {
   "cell_type": "code",
   "execution_count": 59,
   "id": "9a775159",
   "metadata": {},
   "outputs": [],
   "source": [
    "R_patients=list(patient_data[patient_data['Last observation']>=10].index)\n",
    "NR_patients=list(patient_data[patient_data['Last observation']<10].index)"
   ]
  },
  {
   "cell_type": "markdown",
   "id": "bef28c71",
   "metadata": {},
   "source": [
    "Obviously we don't have extensive clinical data in this case, but we do have the phenotype distributions, and the EnsembleSimulator modes provides tailored diversity index functionalities. We will first look at the former together with the responder/non-responder status we defined above. We are interested in the initial tumor diversity, i.e. diversity upon detection / clinical diagnosis, which we can access through the esim.diversity_at_time(0,index) functions for any of the available diversity indices (Shannon, Simpson, Gini-Simpson, Gini)."
   ]
  },
  {
   "cell_type": "code",
   "execution_count": 60,
   "id": "40749e6c",
   "metadata": {},
   "outputs": [],
   "source": [
    "def diversity_table_status(index):\n",
    "    R={tumor:diversity for tumor,diversity in esim.diversity_at_time(0,index).items() if tumor in R_patients}\n",
    "    NR={tumor:diversity for tumor,diversity in esim.diversity_at_time(0,index).items() if tumor in NR_patients}\n",
    "    R_df=pd.DataFrame.from_dict(R,orient='index').rename(columns={0:'Diversity'})\n",
    "    R_df['Response status']='Responder'\n",
    "    NR_df=pd.DataFrame.from_dict(NR,orient='index').rename(columns={0:'Diversity'})\n",
    "    NR_df['Response status']='Non-Responder'\n",
    "    df_combined=pd.concat([R_df,NR_df])\n",
    "    df_combined['Index']=index\n",
    "    return df_combined"
   ]
  },
  {
   "cell_type": "code",
   "execution_count": 61,
   "id": "86712675",
   "metadata": {},
   "outputs": [],
   "source": [
    "df=pd.concat([diversity_table_status('shannon'),diversity_table_status('gini'),diversity_table_status('simpson')])"
   ]
  },
  {
   "cell_type": "code",
   "execution_count": 62,
   "id": "3d8e7d56",
   "metadata": {},
   "outputs": [
    {
     "data": {
      "image/png": "[encoded data removed]",
      "text/plain": [
       "<Figure size 432x288 with 1 Axes>"
      ]
     },
     "metadata": {
      "needs_background": "light"
     },
     "output_type": "display_data"
    }
   ],
   "source": [
    "sns.boxplot(x='Index', y=\"Diversity\", hue=\"Response status\",data=df,palette=['dodgerblue','tomato'])\n",
    "plt.legend(bbox_to_anchor=(1.05, 1.0))\n",
    "plt.xlabel('')\n",
    "plt.show()"
   ]
  },
  {
   "cell_type": "markdown",
   "id": "be41b2fe",
   "metadata": {},
   "source": [
    "There are clear visual distributional differences in diversity distributions between the responders and non-responders in this cohort. Let's run a couple of distributional comparison tests to confirm."
   ]
  },
  {
   "cell_type": "code",
   "execution_count": 63,
   "id": "59774db1",
   "metadata": {},
   "outputs": [
    {
     "data": {
      "text/plain": [
       "KruskalResult(statistic=9.172595520421623, pvalue=0.002456659134508952)"
      ]
     },
     "execution_count": 63,
     "metadata": {},
     "output_type": "execute_result"
    }
   ],
   "source": [
    "stats.kruskal([diversity for tumor,diversity in esim.diversity_at_time(0,'shannon').items() if tumor in R_patients],\\\n",
    "              [diversity for tumor,diversity in esim.diversity_at_time(0,'shannon').items() if tumor in NR_patients])"
   ]
  },
  {
   "cell_type": "code",
   "execution_count": 64,
   "id": "c102d84c",
   "metadata": {},
   "outputs": [
    {
     "data": {
      "text/plain": [
       "MannwhitneyuResult(statistic=80.0, pvalue=0.0012815275936283337)"
      ]
     },
     "execution_count": 64,
     "metadata": {},
     "output_type": "execute_result"
    }
   ],
   "source": [
    "stats.mannwhitneyu([diversity for tumor,diversity in esim.diversity_at_time(0,'shannon').items() if tumor in R_patients],\\\n",
    "              [diversity for tumor,diversity in esim.diversity_at_time(0,'shannon').items() if tumor in NR_patients])"
   ]
  }
 ],
 "metadata": {
  "kernelspec": {
   "display_name": "Python 3",
   "language": "python",
   "name": "python3"
  },
  "language_info": {
   "codemirror_mode": {
    "name": "ipython",
    "version": 3
   },
   "file_extension": ".py",
   "mimetype": "text/x-python",
   "name": "python",
   "nbconvert_exporter": "python",
   "pygments_lexer": "ipython3",
   "version": "3.8.8"
  }
 },
 "nbformat": 4,
 "nbformat_minor": 5
}
