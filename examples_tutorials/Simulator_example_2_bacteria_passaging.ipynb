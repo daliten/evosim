{
 "cells": [
  {
   "cell_type": "markdown",
   "id": "1ee9adb9",
   "metadata": {},
   "source": [
    "# _evosim_ Simulator mode example 2: _in vitro_ serial passaging\n",
    "### This is an example of simulating a single run of _in vitro_ serial passaging. For an introduction to the Simulator mode and a more extensive description of functional capabilities see Example 1.\n"
   ]
  },
  {
   "cell_type": "code",
   "execution_count": null,
   "id": "6e85c592",
   "metadata": {},
   "outputs": [],
   "source": [
    "# these are not necessary for evosim functionalities, but we will use them elsewhere in the \n",
    "#tutorial to visualize some of the results\n",
    "import matplotlib.pyplot as plt\n",
    "import numpy as np\n",
    "import random"
   ]
  },
  {
   "cell_type": "code",
   "execution_count": null,
   "id": "d8da6354",
   "metadata": {},
   "outputs": [],
   "source": [
    "#Included here for reproducibility\n",
    "np.random.seed(7)\n",
    "random.seed(2)"
   ]
  },
  {
   "cell_type": "code",
   "execution_count": null,
   "id": "ea8e7178",
   "metadata": {},
   "outputs": [],
   "source": [
    "# import the Simulator module\n",
    "from evosim import Simulator"
   ]
  },
  {
   "cell_type": "code",
   "execution_count": null,
   "id": "55049852",
   "metadata": {},
   "outputs": [],
   "source": [
    "sim=Simulator()"
   ]
  },
  {
   "cell_type": "markdown",
   "id": "efc5a21c",
   "metadata": {},
   "source": [
    "We will simulate the serial passaging via sequential dilutions of a nearly-homogeneous bacterial population growing in medium. We will assume that there are 4 potential cell types that can arise by heritable alterations in this population: WT, mut1, mut2, mut3.\n",
    "\n",
    "We first need to define the initial population configuration. We will assume a rough starting population of a million plated cells, a dilution at x30 down to the original population level, and a carrying capacity of 5*10^7. So we can expect about a 60% confluence at the time of passaging."
   ]
  },
  {
   "cell_type": "code",
   "execution_count": null,
   "id": "898c0da1",
   "metadata": {},
   "outputs": [],
   "source": [
    "initial_subpopulations = {'WT':10**6,'mut1':20,'mut2':5,'mut3':0}\n",
    "sim.initialize(initial_subpopulations, carrying_capacity=5*10**7, new_folder=False)"
   ]
  },
  {
   "cell_type": "markdown",
   "id": "4d927624",
   "metadata": {},
   "source": [
    "We will assume a wildtype bacterial expected division time of 30 minutes, with similar but slightly more/less favored times for the mutant types. Our time unit of choice will be hours here."
   ]
  },
  {
   "cell_type": "code",
   "execution_count": null,
   "id": "7e0d50fc",
   "metadata": {},
   "outputs": [],
   "source": [
    "birth_rates={'WT':0.5,'mut1':0.47,'mut2':0.42,'mut3':0.53}\n",
    "death_rates = {'WT':0.04,'mut1':0.04,'mut2':0.04,'mut3':0.04}"
   ]
  },
  {
   "cell_type": "markdown",
   "id": "3080f780",
   "metadata": {},
   "source": [
    "Next, we must specify the probability of mutations, assuming equal rates for forward and backward mutations."
   ]
  },
  {
   "cell_type": "code",
   "execution_count": null,
   "id": "4edd7e10",
   "metadata": {},
   "outputs": [],
   "source": [
    "mut=10**(-3)\n",
    "mut_probs={'WT': {'mut1': mut,'mut2':mut,'mut3':mut}, 'mut1':  {'WT': mut,'mut2':mut,'mut3':mut},\\\n",
    "           'mut2':  {'WT': mut,'mut1':mut,'mut3':mut},'mut3':  {'WT': mut,'mut1':mut,'mut2':mut}} "
   ]
  },
  {
   "cell_type": "markdown",
   "id": "c0f668c9",
   "metadata": {},
   "source": [
    "Now let's set up the simulation for 3 weeks, recording once a day."
   ]
  },
  {
   "cell_type": "code",
   "execution_count": null,
   "id": "48204891",
   "metadata": {},
   "outputs": [],
   "source": [
    "dilution_threshold = 3*10**7\n",
    "\n",
    "total_time_passed = 0\n",
    "MAX_TIME = 3*7*24\n",
    "remaining_time = MAX_TIME\n",
    "while total_time_passed < MAX_TIME:\n",
    "    #Let cells grow, keep checking if they have passed the dilution threshold\n",
    "    time_passed, _ = sim.evolve(max_sim_time = remaining_time,recording_interval = 24,birth_rates = birth_rates,\\\n",
    "                        death_rates=death_rates,mut_probs=mut_probs,detection_threshold=dilution_threshold)\n",
    "    total_time_passed += time_passed\n",
    "    remaining_time = MAX_TIME - total_time_passed\n",
    "    #If they past the dilution threshold, passage down to approximately 10^6; assume this takes a few minutes.\n",
    "    if sim.pop_total()>=dilution_threshold:\n",
    "        new_pop=np.random.normal(10**6,400)\n",
    "        sim.perform_dilution(new_pop,dilution_time=0.1)"
   ]
  },
  {
   "cell_type": "code",
   "execution_count": null,
   "id": "4e52eed6",
   "metadata": {},
   "outputs": [],
   "source": [
    "sim.plot_full_time_course_clonal(time_conversion='hours_to_days')"
   ]
  },
  {
   "cell_type": "code",
   "execution_count": null,
   "id": "97f2fb9a",
   "metadata": {},
   "outputs": [],
   "source": [
    "sim.plot_full_time_course_clonal(time_conversion='hours_to_days',scale='log')"
   ]
  },
  {
   "cell_type": "code",
   "execution_count": null,
   "id": "2f675d51",
   "metadata": {},
   "outputs": [],
   "source": [
    "sim.plot_full_time_course_total(time_conversion='hours_to_days')"
   ]
  },
  {
   "cell_type": "markdown",
   "id": "51b77aaa",
   "metadata": {},
   "source": [
    "Let's look at how the diversity changed over time."
   ]
  },
  {
   "cell_type": "code",
   "execution_count": null,
   "id": "17848dbe",
   "metadata": {},
   "outputs": [],
   "source": [
    "shannon_df=sim.convert_time(sim.diversity_full_time_course(index='shannon'),'hours_to_days')\n",
    "simpson_df=sim.convert_time(sim.diversity_full_time_course(index='simpson'),'hours_to_days')\n",
    "gini_simpson_df=sim.convert_time(sim.diversity_full_time_course(index='gini-simpson'),'hours_to_days')\n",
    "gini_df=sim.convert_time(sim.diversity_full_time_course(index='gini'),'hours_to_days')"
   ]
  },
  {
   "cell_type": "code",
   "execution_count": null,
   "id": "3f962ee8",
   "metadata": {},
   "outputs": [],
   "source": [
    "fig, axs = plt.subplots(2, 2,figsize=(10,8))\n",
    "axs[0, 0].plot(shannon_df.index,shannon_df['shannon'])\n",
    "axs[0, 0].set_title('Shannon')\n",
    "axs[0, 1].plot(simpson_df.index,simpson_df['simpson'])\n",
    "axs[0, 1].set_title('Simpson')\n",
    "axs[1, 0].plot(gini_simpson_df.index,gini_simpson_df['gini-simpson'])\n",
    "axs[1, 0].set_title('Gini-Simpson')\n",
    "axs[1, 1].plot(gini_df.index,gini_df['gini'])\n",
    "axs[1, 1].set_title('Gini')\n",
    "\n",
    "for ax in axs.flat:\n",
    "    ax.set(xlabel='Time (days)', ylabel='Index')\n",
    "    #ax.set_yscale('log')\n",
    "\n",
    "plt.tight_layout()\n",
    "plt.show()"
   ]
  },
  {
   "cell_type": "markdown",
   "id": "1128d60c",
   "metadata": {},
   "source": [
    "What if we dilute at nearly the carrying capacity?"
   ]
  },
  {
   "cell_type": "code",
   "execution_count": null,
   "id": "ff3f890a",
   "metadata": {},
   "outputs": [],
   "source": [
    "sim.initialize(initial_subpopulations, carrying_capacity=5*10**7)\n",
    "\n",
    "dilution_threshold = 4.8*10**7\n",
    "\n",
    "total_time_passed = 0\n",
    "MAX_TIME = 3*7*24\n",
    "remaining_time = MAX_TIME\n",
    "while total_time_passed < MAX_TIME:\n",
    "    #Let cells grow, keep checking if they have passed the dilution threshold\n",
    "    time_passed, _ = sim.evolve(max_sim_time = remaining_time,recording_interval = 24,birth_rates = birth_rates,\\\n",
    "                        death_rates=death_rates,mut_probs=mut_probs,detection_threshold=dilution_threshold)\n",
    "    total_time_passed += time_passed\n",
    "    remaining_time = MAX_TIME - total_time_passed\n",
    "    #If they past the dilution threshold, passage down to approximately 10^6; assume this takes a few minutes.\n",
    "    if sim.pop_total()>=dilution_threshold:\n",
    "        new_pop=np.random.normal(10**6,400)\n",
    "        sim.perform_dilution(new_pop,dilution_time=0.1)"
   ]
  },
  {
   "cell_type": "code",
   "execution_count": null,
   "id": "a3957159",
   "metadata": {},
   "outputs": [],
   "source": [
    "sim.plot_full_time_course_total(time_conversion='hours_to_days')"
   ]
  },
  {
   "cell_type": "code",
   "execution_count": null,
   "id": "7769fcea",
   "metadata": {},
   "outputs": [],
   "source": []
  }
 ],
 "metadata": {
  "kernelspec": {
   "display_name": "Python 3",
   "language": "python",
   "name": "python3"
  },
  "language_info": {
   "codemirror_mode": {
    "name": "ipython",
    "version": 3
   },
   "file_extension": ".py",
   "mimetype": "text/x-python",
   "name": "python",
   "nbconvert_exporter": "python",
   "pygments_lexer": "ipython3",
   "version": "3.8.8"
  }
 },
 "nbformat": 4,
 "nbformat_minor": 5
}
