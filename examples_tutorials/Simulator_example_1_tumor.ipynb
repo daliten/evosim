{
 "cells": [
  {
   "cell_type": "markdown",
   "id": "7fd8d0de",
   "metadata": {},
   "source": [
    "# _evosim_ Simulator mode example 1: tumor evolution and progression\n",
    "### In this example, we will evolve a heterogeneous tumor starting from a single cell, resect it upon detection, administer adjuvant therapy, and continue periodically monitoring it thereafter. This example showcases some of the main functionalities of the Simulator (single-run) mode.\n",
    "Note: No pharmacokinetic modeling is used here, so that drug concentrations are assumed to reach all cells at their stated concentrations. Pharmacokinetic modeling can be implemented into the drug response if desired."
   ]
  },
  {
   "cell_type": "code",
   "execution_count": 1,
   "id": "4af1d71c",
   "metadata": {},
   "outputs": [],
   "source": [
    "# import the Simulator module\n",
    "from evosim import Simulator\n",
    "\n",
    "# these are not necessary for evosim functionalities, but we will use them elsewhere in the \n",
    "#tutorial to visualize some of the results\n",
    "import matplotlib.pyplot as plt\n",
    "import numpy as np"
   ]
  },
  {
   "cell_type": "code",
   "execution_count": 2,
   "id": "be99b83c",
   "metadata": {},
   "outputs": [],
   "source": [
    "sim=Simulator()"
   ]
  },
  {
   "cell_type": "markdown",
   "id": "e84a6eb3",
   "metadata": {},
   "source": [
    "We will simulate the growth of a tumor from a single cell. We will refer to this phenotype as 'A'. Here, we will assume that a maximum of 2 inheritable alterations can occur and hence the system can have up to 3 total cell phenotypes; we will refer to the mutant phenotypes as 'B' and 'C'.\n",
    "\n",
    "We first need to define the initial population configuration:"
   ]
  },
  {
   "cell_type": "code",
   "execution_count": 4,
   "id": "1a363b3e",
   "metadata": {},
   "outputs": [],
   "source": [
    "initial_subpopulations = {'A':1,'B':0,'C':0}"
   ]
  },
  {
   "cell_type": "markdown",
   "id": "88fc2b0e",
   "metadata": {},
   "source": [
    "We can choose to also specify the simulation method (extended-time leaping or the SSA) and the leaping threshold (for extended-time leaping). By default these parameters will default to leaping with a threshold of 10^2. We will go with the defaults here and initialize our population; see commented-out code for alternatives. \n",
    "\n",
    "We can also specify an environmental carrying capacity, which will lead to logistic growth at high population levels. By default this is set to 10^18 to avoid overflow errors.\n",
    "\n",
    "By default, anything following the initialize() call will be saved to a default \"results\" folder, but if setting \"new_folder\" to True the results will be saved to a separate time-stamped folder. This is suggested when different configurations are of interest and multiple runs are expected."
   ]
  },
  {
   "cell_type": "code",
   "execution_count": 5,
   "id": "7c58744f",
   "metadata": {},
   "outputs": [],
   "source": [
    "sim.initialize(initial_subpopulations, carrying_capacity=10**12, new_folder=True)\n",
    "#sim.initialize(initial_subpopulations)\n",
    "#sim.initialize(pop_structure=initial_subpopulations)\n",
    "#sim.initialize(initial_subpopulations, method='leaping')\n",
    "#sim.initialize(initial_subpopulations, method='leaping',leap_threshold=10**3)\n",
    "#sim.initialize(initial_subpopulations, method='SSA')"
   ]
  },
  {
   "cell_type": "markdown",
   "id": "b86fba21",
   "metadata": {},
   "source": [
    "Now that we have specified the basic setup, we can set and change the rates that determine its evolution over time. The minimal information that we must specify at every stage of evolution are the birth (division) and death rates of each of the phenotypes allowable in the system ('A', 'B', and 'C') and the probabilities of mutation between them.\n",
    "\n",
    "We will begin by assuming that as the tumor is growing B has a neutral advantage and C is somewhat disadvantaged through a lower birth rate. The rates that we specify must be in inverse expected time for a cell to divide (die). Here we will use days as our base time unit."
   ]
  },
  {
   "cell_type": "code",
   "execution_count": 6,
   "id": "ff10784e",
   "metadata": {},
   "outputs": [],
   "source": [
    "birth_rates={'A':0.004,'B':0.004,'C':0.003}\n",
    "death_rates = {'A':0.0004,'B':0.0004,'C':0.0003}"
   ]
  },
  {
   "cell_type": "markdown",
   "id": "a15c0b06",
   "metadata": {},
   "source": [
    "Next, we must specify the probability of mutations, A->B, A->C, B->C, and the reverse. These probabilities represent the probability that a given mutation will occur in any particular cell division. Here we will assume that forward and backward mutations are just as likely, and that A->B is a more frequently occurring mutation that B->C or A->C."
   ]
  },
  {
   "cell_type": "code",
   "execution_count": 7,
   "id": "b9bb9fce",
   "metadata": {},
   "outputs": [],
   "source": [
    "MUT_PROB_AB=10**(-4) #mutation probability is probability of mutation occurring in a given division\n",
    "MUT_PROB_AC=10**(-4)\n",
    "MUT_PROB_BC=10**(-4)\n",
    "mut_probs={'A': {'B': MUT_PROB_AB,'C':MUT_PROB_AC}, 'B': {'A':MUT_PROB_AB,'C':MUT_PROB_BC},\\\n",
    "           'C': {'A': MUT_PROB_AC,'B':MUT_PROB_BC}} #change if want fewer or more species"
   ]
  },
  {
   "cell_type": "markdown",
   "id": "094462bc",
   "metadata": {},
   "source": [
    "This is all the required information we need to set up the simulation, but we can also specify a detection threshold if we are interested in stopping the simulation at a certain total population size. This is useful for simulating tumors up to a certain size (at which point they may be clinically detectable). This stopping point is not exact, as there are multiple events taking place per leap and the population size is only checked every leap.\n",
    "\n",
    "Lastly, we need to specify the total simulation time in the same units as the birth and death rates. Here we will evolve the tumor for 20 years or until it has reached a size of at least 10^9 cells. We will record the population distribution every year."
   ]
  },
  {
   "cell_type": "code",
   "execution_count": 8,
   "id": "125c5aad",
   "metadata": {},
   "outputs": [],
   "source": [
    "_,tumor_growth=sim.evolve(max_sim_time = 20*365,recording_interval = 365,birth_rates = birth_rates,\\\n",
    "                        death_rates=death_rates,mut_probs=mut_probs,detection_threshold=10**10)\n",
    "#NOTE: calls to evolve() must use keyword arguments. This is the only such function in Simulator() and EnsembleSimulator()."
   ]
  },
  {
   "cell_type": "markdown",
   "id": "2bfd32bc",
   "metadata": {},
   "source": [
    "This will generate a table of the different cell type population levels at each time point. Note that when starting from a single cell, some runs will result in the death of that cell without further evolution (as would be biologically expected), and hence due to stochasticity several runs may be needed in order to reach a critically growing tumor. To rerun, first rerun the initialize call, or the simulation will attempt to start at the zero-population level."
   ]
  },
  {
   "cell_type": "code",
   "execution_count": 9,
   "id": "37417dd4",
   "metadata": {},
   "outputs": [
    {
     "data": {
      "text/html": [
       "<div>\n",
       "<style scoped>\n",
       "    .dataframe tbody tr th:only-of-type {\n",
       "        vertical-align: middle;\n",
       "    }\n",
       "\n",
       "    .dataframe tbody tr th {\n",
       "        vertical-align: top;\n",
       "    }\n",
       "\n",
       "    .dataframe thead th {\n",
       "        text-align: right;\n",
       "    }\n",
       "</style>\n",
       "<table border=\"1\" class=\"dataframe\">\n",
       "  <thead>\n",
       "    <tr style=\"text-align: right;\">\n",
       "      <th></th>\n",
       "      <th>A</th>\n",
       "      <th>B</th>\n",
       "      <th>C</th>\n",
       "    </tr>\n",
       "    <tr>\n",
       "      <th>Time</th>\n",
       "      <th></th>\n",
       "      <th></th>\n",
       "      <th></th>\n",
       "    </tr>\n",
       "  </thead>\n",
       "  <tbody>\n",
       "    <tr>\n",
       "      <th>0.000000</th>\n",
       "      <td>1</td>\n",
       "      <td>0</td>\n",
       "      <td>0</td>\n",
       "    </tr>\n",
       "    <tr>\n",
       "      <th>365.000000</th>\n",
       "      <td>3</td>\n",
       "      <td>0</td>\n",
       "      <td>0</td>\n",
       "    </tr>\n",
       "    <tr>\n",
       "      <th>730.000000</th>\n",
       "      <td>19</td>\n",
       "      <td>0</td>\n",
       "      <td>0</td>\n",
       "    </tr>\n",
       "    <tr>\n",
       "      <th>1095.000000</th>\n",
       "      <td>75</td>\n",
       "      <td>0</td>\n",
       "      <td>0</td>\n",
       "    </tr>\n",
       "    <tr>\n",
       "      <th>1460.000000</th>\n",
       "      <td>304</td>\n",
       "      <td>0</td>\n",
       "      <td>0</td>\n",
       "    </tr>\n",
       "    <tr>\n",
       "      <th>1825.000000</th>\n",
       "      <td>1072</td>\n",
       "      <td>0</td>\n",
       "      <td>0</td>\n",
       "    </tr>\n",
       "    <tr>\n",
       "      <th>2190.000000</th>\n",
       "      <td>4027</td>\n",
       "      <td>3</td>\n",
       "      <td>0</td>\n",
       "    </tr>\n",
       "    <tr>\n",
       "      <th>2555.000000</th>\n",
       "      <td>15163</td>\n",
       "      <td>8</td>\n",
       "      <td>0</td>\n",
       "    </tr>\n",
       "    <tr>\n",
       "      <th>2920.000000</th>\n",
       "      <td>56477</td>\n",
       "      <td>29</td>\n",
       "      <td>8</td>\n",
       "    </tr>\n",
       "    <tr>\n",
       "      <th>3285.000000</th>\n",
       "      <td>209616</td>\n",
       "      <td>188</td>\n",
       "      <td>42</td>\n",
       "    </tr>\n",
       "    <tr>\n",
       "      <th>3650.000000</th>\n",
       "      <td>779522</td>\n",
       "      <td>818</td>\n",
       "      <td>193</td>\n",
       "    </tr>\n",
       "    <tr>\n",
       "      <th>4015.000000</th>\n",
       "      <td>2898839</td>\n",
       "      <td>3640</td>\n",
       "      <td>904</td>\n",
       "    </tr>\n",
       "    <tr>\n",
       "      <th>4380.000000</th>\n",
       "      <td>10784311</td>\n",
       "      <td>15127</td>\n",
       "      <td>3855</td>\n",
       "    </tr>\n",
       "    <tr>\n",
       "      <th>4745.000000</th>\n",
       "      <td>40084019</td>\n",
       "      <td>62906</td>\n",
       "      <td>15161</td>\n",
       "    </tr>\n",
       "    <tr>\n",
       "      <th>5110.000000</th>\n",
       "      <td>149079917</td>\n",
       "      <td>253981</td>\n",
       "      <td>59750</td>\n",
       "    </tr>\n",
       "    <tr>\n",
       "      <th>5475.000000</th>\n",
       "      <td>554100966</td>\n",
       "      <td>1023938</td>\n",
       "      <td>230679</td>\n",
       "    </tr>\n",
       "    <tr>\n",
       "      <th>5840.000000</th>\n",
       "      <td>2057190360</td>\n",
       "      <td>4107723</td>\n",
       "      <td>873386</td>\n",
       "    </tr>\n",
       "    <tr>\n",
       "      <th>6205.000000</th>\n",
       "      <td>7603305355</td>\n",
       "      <td>16295346</td>\n",
       "      <td>3276017</td>\n",
       "    </tr>\n",
       "    <tr>\n",
       "      <th>6283.184261</th>\n",
       "      <td>10046106144</td>\n",
       "      <td>21838705</td>\n",
       "      <td>4338415</td>\n",
       "    </tr>\n",
       "  </tbody>\n",
       "</table>\n",
       "</div>"
      ],
      "text/plain": [
       "                       A         B        C\n",
       "Time                                       \n",
       "0.000000               1         0        0\n",
       "365.000000             3         0        0\n",
       "730.000000            19         0        0\n",
       "1095.000000           75         0        0\n",
       "1460.000000          304         0        0\n",
       "1825.000000         1072         0        0\n",
       "2190.000000         4027         3        0\n",
       "2555.000000        15163         8        0\n",
       "2920.000000        56477        29        8\n",
       "3285.000000       209616       188       42\n",
       "3650.000000       779522       818      193\n",
       "4015.000000      2898839      3640      904\n",
       "4380.000000     10784311     15127     3855\n",
       "4745.000000     40084019     62906    15161\n",
       "5110.000000    149079917    253981    59750\n",
       "5475.000000    554100966   1023938   230679\n",
       "5840.000000   2057190360   4107723   873386\n",
       "6205.000000   7603305355  16295346  3276017\n",
       "6283.184261  10046106144  21838705  4338415"
      ]
     },
     "execution_count": 9,
     "metadata": {},
     "output_type": "execute_result"
    }
   ],
   "source": [
    "tumor_growth"
   ]
  },
  {
   "cell_type": "markdown",
   "id": "a10018bb",
   "metadata": {},
   "source": [
    "But seeing decades in days isn't very helpful. Let's convert the time to years."
   ]
  },
  {
   "cell_type": "code",
   "execution_count": 10,
   "id": "984c491d",
   "metadata": {},
   "outputs": [
    {
     "data": {
      "text/html": [
       "<div>\n",
       "<style scoped>\n",
       "    .dataframe tbody tr th:only-of-type {\n",
       "        vertical-align: middle;\n",
       "    }\n",
       "\n",
       "    .dataframe tbody tr th {\n",
       "        vertical-align: top;\n",
       "    }\n",
       "\n",
       "    .dataframe thead th {\n",
       "        text-align: right;\n",
       "    }\n",
       "</style>\n",
       "<table border=\"1\" class=\"dataframe\">\n",
       "  <thead>\n",
       "    <tr style=\"text-align: right;\">\n",
       "      <th></th>\n",
       "      <th>A</th>\n",
       "      <th>B</th>\n",
       "      <th>C</th>\n",
       "    </tr>\n",
       "    <tr>\n",
       "      <th>Time</th>\n",
       "      <th></th>\n",
       "      <th></th>\n",
       "      <th></th>\n",
       "    </tr>\n",
       "  </thead>\n",
       "  <tbody>\n",
       "    <tr>\n",
       "      <th>0.000000</th>\n",
       "      <td>1</td>\n",
       "      <td>0</td>\n",
       "      <td>0</td>\n",
       "    </tr>\n",
       "    <tr>\n",
       "      <th>1.000000</th>\n",
       "      <td>3</td>\n",
       "      <td>0</td>\n",
       "      <td>0</td>\n",
       "    </tr>\n",
       "    <tr>\n",
       "      <th>2.000000</th>\n",
       "      <td>19</td>\n",
       "      <td>0</td>\n",
       "      <td>0</td>\n",
       "    </tr>\n",
       "    <tr>\n",
       "      <th>3.000000</th>\n",
       "      <td>75</td>\n",
       "      <td>0</td>\n",
       "      <td>0</td>\n",
       "    </tr>\n",
       "    <tr>\n",
       "      <th>4.000000</th>\n",
       "      <td>304</td>\n",
       "      <td>0</td>\n",
       "      <td>0</td>\n",
       "    </tr>\n",
       "    <tr>\n",
       "      <th>5.000000</th>\n",
       "      <td>1072</td>\n",
       "      <td>0</td>\n",
       "      <td>0</td>\n",
       "    </tr>\n",
       "    <tr>\n",
       "      <th>6.000000</th>\n",
       "      <td>4027</td>\n",
       "      <td>3</td>\n",
       "      <td>0</td>\n",
       "    </tr>\n",
       "    <tr>\n",
       "      <th>7.000000</th>\n",
       "      <td>15163</td>\n",
       "      <td>8</td>\n",
       "      <td>0</td>\n",
       "    </tr>\n",
       "    <tr>\n",
       "      <th>8.000000</th>\n",
       "      <td>56477</td>\n",
       "      <td>29</td>\n",
       "      <td>8</td>\n",
       "    </tr>\n",
       "    <tr>\n",
       "      <th>9.000000</th>\n",
       "      <td>209616</td>\n",
       "      <td>188</td>\n",
       "      <td>42</td>\n",
       "    </tr>\n",
       "    <tr>\n",
       "      <th>10.000000</th>\n",
       "      <td>779522</td>\n",
       "      <td>818</td>\n",
       "      <td>193</td>\n",
       "    </tr>\n",
       "    <tr>\n",
       "      <th>11.000000</th>\n",
       "      <td>2898839</td>\n",
       "      <td>3640</td>\n",
       "      <td>904</td>\n",
       "    </tr>\n",
       "    <tr>\n",
       "      <th>12.000000</th>\n",
       "      <td>10784311</td>\n",
       "      <td>15127</td>\n",
       "      <td>3855</td>\n",
       "    </tr>\n",
       "    <tr>\n",
       "      <th>13.000000</th>\n",
       "      <td>40084019</td>\n",
       "      <td>62906</td>\n",
       "      <td>15161</td>\n",
       "    </tr>\n",
       "    <tr>\n",
       "      <th>14.000000</th>\n",
       "      <td>149079917</td>\n",
       "      <td>253981</td>\n",
       "      <td>59750</td>\n",
       "    </tr>\n",
       "    <tr>\n",
       "      <th>15.000000</th>\n",
       "      <td>554100966</td>\n",
       "      <td>1023938</td>\n",
       "      <td>230679</td>\n",
       "    </tr>\n",
       "    <tr>\n",
       "      <th>16.000000</th>\n",
       "      <td>2057190360</td>\n",
       "      <td>4107723</td>\n",
       "      <td>873386</td>\n",
       "    </tr>\n",
       "    <tr>\n",
       "      <th>17.000000</th>\n",
       "      <td>7603305355</td>\n",
       "      <td>16295346</td>\n",
       "      <td>3276017</td>\n",
       "    </tr>\n",
       "    <tr>\n",
       "      <th>17.214203</th>\n",
       "      <td>10046106144</td>\n",
       "      <td>21838705</td>\n",
       "      <td>4338415</td>\n",
       "    </tr>\n",
       "  </tbody>\n",
       "</table>\n",
       "</div>"
      ],
      "text/plain": [
       "                     A         B        C\n",
       "Time                                     \n",
       "0.000000             1         0        0\n",
       "1.000000             3         0        0\n",
       "2.000000            19         0        0\n",
       "3.000000            75         0        0\n",
       "4.000000           304         0        0\n",
       "5.000000          1072         0        0\n",
       "6.000000          4027         3        0\n",
       "7.000000         15163         8        0\n",
       "8.000000         56477        29        8\n",
       "9.000000        209616       188       42\n",
       "10.000000       779522       818      193\n",
       "11.000000      2898839      3640      904\n",
       "12.000000     10784311     15127     3855\n",
       "13.000000     40084019     62906    15161\n",
       "14.000000    149079917    253981    59750\n",
       "15.000000    554100966   1023938   230679\n",
       "16.000000   2057190360   4107723   873386\n",
       "17.000000   7603305355  16295346  3276017\n",
       "17.214203  10046106144  21838705  4338415"
      ]
     },
     "execution_count": 10,
     "metadata": {},
     "output_type": "execute_result"
    }
   ],
   "source": [
    "sim.convert_time(tumor_growth,'days_to_years')"
   ]
  },
  {
   "cell_type": "markdown",
   "id": "ca7d2aba",
   "metadata": {},
   "source": [
    "Let's look at the total population after this simulation:"
   ]
  },
  {
   "cell_type": "code",
   "execution_count": 11,
   "id": "419b89e9",
   "metadata": {},
   "outputs": [
    {
     "data": {
      "text/plain": [
       "10072283264"
      ]
     },
     "execution_count": 11,
     "metadata": {},
     "output_type": "execute_result"
    }
   ],
   "source": [
    "sim.pop_total()"
   ]
  },
  {
   "cell_type": "markdown",
   "id": "e6436506",
   "metadata": {},
   "source": [
    "Or the distribution at the last time point:"
   ]
  },
  {
   "cell_type": "code",
   "execution_count": 12,
   "id": "bcf651a3",
   "metadata": {},
   "outputs": [
    {
     "data": {
      "text/plain": [
       "{'A': 10046106144, 'B': 21838705, 'C': 4338415}"
      ]
     },
     "execution_count": 12,
     "metadata": {},
     "output_type": "execute_result"
    }
   ],
   "source": [
    "sim.pop_distribution()"
   ]
  },
  {
   "cell_type": "markdown",
   "id": "60f2124b",
   "metadata": {},
   "source": [
    "We can also compute the current diversity of the population according to a selected diversity index."
   ]
  },
  {
   "cell_type": "code",
   "execution_count": 13,
   "id": "efb39987",
   "metadata": {},
   "outputs": [
    {
     "name": "stdout",
     "output_type": "stream",
     "text": [
      "Current Shannon index is  0.019233123729014256\n",
      "Current Simpson index is  0.9948137887988967\n",
      "Current Gini-Simpson index is  0.005186211201103297\n",
      "Current Gini index is  0.6646468972194838\n",
      "Current Renyi entropy for q=3 is  0.0039034586009567226\n",
      "Current Renyi entropy for q=7 is  0.0030360273825841295\n"
     ]
    }
   ],
   "source": [
    "print('Current Shannon index is ',sim.diversity('shannon'))\n",
    "print('Current Simpson index is ',sim.diversity('simpson'))\n",
    "print('Current Gini-Simpson index is ',sim.diversity('gini-simpson'))\n",
    "print('Current Gini index is ',sim.diversity('gini'))\n",
    "print('Current Renyi entropy for q=3 is ',sim.renyi_entropy(3))\n",
    "print('Current Renyi entropy for q=7 is ',sim.renyi_entropy(7))"
   ]
  },
  {
   "cell_type": "markdown",
   "id": "fbafdb30",
   "metadata": {},
   "source": [
    "If this is the size of the tumor detected, then we might want to resect it prior to treatment. If we think there may be some small residual cell population of e.g. 0.01% of the original population, we can use the perform_dilution function to sample it, where we input the final population. Let's suppose the resection takes a couple of hours, so that we set the actual time that the dilution takes to 0.1 days."
   ]
  },
  {
   "cell_type": "code",
   "execution_count": 14,
   "id": "46a290af",
   "metadata": {},
   "outputs": [],
   "source": [
    "sim.perform_dilution(0.0001*sim.pop_total(),dilution_time=0.1)"
   ]
  },
  {
   "cell_type": "markdown",
   "id": "5c0c98d0",
   "metadata": {},
   "source": [
    "We can see the population is much smaller now:"
   ]
  },
  {
   "cell_type": "code",
   "execution_count": 15,
   "id": "758c8912",
   "metadata": {},
   "outputs": [
    {
     "data": {
      "text/plain": [
       "1007228"
      ]
     },
     "execution_count": 15,
     "metadata": {},
     "output_type": "execute_result"
    }
   ],
   "source": [
    "sim.pop_total()"
   ]
  },
  {
   "cell_type": "code",
   "execution_count": 16,
   "id": "0c95dd82",
   "metadata": {},
   "outputs": [
    {
     "data": {
      "text/plain": [
       "{'A': 1004691, 'B': 2128, 'C': 409}"
      ]
     },
     "execution_count": 16,
     "metadata": {},
     "output_type": "execute_result"
    }
   ],
   "source": [
    "sim.pop_distribution()"
   ]
  },
  {
   "cell_type": "markdown",
   "id": "eb1d81b4",
   "metadata": {},
   "source": [
    "We can now administer adjuvant treatment. Suppose that we use two drugs in combination, a drug which has the effect of increasing the cell death rates and a drug that affects the division rates. We will assume a simple Hill-type dependence on the drug concentration C (at the tumor), in arbitrary drug units, in the case of the birth rate, and the dependence shown below for the death rates."
   ]
  },
  {
   "cell_type": "code",
   "execution_count": 18,
   "id": "345fab85",
   "metadata": {},
   "outputs": [],
   "source": [
    "def Hill_eqn(C,IC50,n):\n",
    "    return 1/(1+(C/IC50)**n)\n",
    "def drug_birth_rate(drug_free_birth_rate,C,IC50,n):\n",
    "    return drug_free_birth_rate*Hill_eqn(C,IC50,n)\n",
    "def drug_death_rate(drug_free_death_rate,C,IC50,n):\n",
    "    return drug_free_death_rate*(1+C/IC50)**n"
   ]
  },
  {
   "cell_type": "markdown",
   "id": "92aa0364",
   "metadata": {},
   "source": [
    "Let's plot the dose-response curve for a few different choices of Hill exponent, while noting that this is for birth/death rates only rather than total growth."
   ]
  },
  {
   "cell_type": "code",
   "execution_count": 19,
   "id": "375b33ba",
   "metadata": {},
   "outputs": [
    {
     "data": {
      "image/png": "[encoded data removed]",
      "text/plain": [
       "<Figure size 432x288 with 1 Axes>"
      ]
     },
     "metadata": {
      "needs_background": "light"
     },
     "output_type": "display_data"
    }
   ],
   "source": [
    "drug_concentrations=np.linspace(0,20,50)\n",
    "drug_response_1=[drug_birth_rate(birth_rates['A'],c,1,1) for c in drug_concentrations]\n",
    "drug_response_2=[drug_birth_rate(birth_rates['A'],c,1,2) for c in drug_concentrations]\n",
    "drug_response_3=[drug_birth_rate(birth_rates['A'],c,1,3) for c in drug_concentrations]\n",
    "plt.plot(drug_concentrations,drug_response_1,label='n=1')\n",
    "plt.plot(drug_concentrations,drug_response_2,label='n=2')\n",
    "plt.plot(drug_concentrations,drug_response_3,label='n=3')\n",
    "plt.xscale('log')\n",
    "plt.legend()\n",
    "plt.xlabel('Drug concentration')\n",
    "plt.ylabel('Birth rate')\n",
    "plt.show()"
   ]
  },
  {
   "cell_type": "markdown",
   "id": "5e0353f3",
   "metadata": {},
   "source": [
    "We will stick with n=3 here. Let's look at how different values of IC50 (sensitivity) affect the birth rate for type A."
   ]
  },
  {
   "cell_type": "code",
   "execution_count": 20,
   "id": "7333a577",
   "metadata": {},
   "outputs": [
    {
     "data": {
      "image/png": "[encoded data removed]",
      "text/plain": [
       "<Figure size 432x288 with 1 Axes>"
      ]
     },
     "metadata": {
      "needs_background": "light"
     },
     "output_type": "display_data"
    }
   ],
   "source": [
    "drug_concentrations=np.linspace(0,20,50)\n",
    "drug_response_1=[drug_birth_rate(birth_rates['A'],c,1,3) for c in drug_concentrations]\n",
    "drug_response_2=[drug_birth_rate(birth_rates['A'],c,5,3) for c in drug_concentrations]\n",
    "drug_response_3=[drug_birth_rate(birth_rates['A'],c,10,3) for c in drug_concentrations]\n",
    "plt.plot(drug_concentrations,drug_response_1,label='IC50=1')\n",
    "plt.plot(drug_concentrations,drug_response_2,label='IC50=5')\n",
    "plt.plot(drug_concentrations,drug_response_3,label='IC50=10')\n",
    "plt.xscale('log')\n",
    "plt.legend()\n",
    "plt.xlabel('Drug concentration')\n",
    "plt.ylabel('Birth rate')\n",
    "plt.show()"
   ]
  },
  {
   "cell_type": "code",
   "execution_count": 21,
   "id": "ec850152",
   "metadata": {},
   "outputs": [
    {
     "data": {
      "image/png": "[encoded data removed]",
      "text/plain": [
       "<Figure size 432x288 with 1 Axes>"
      ]
     },
     "metadata": {
      "needs_background": "light"
     },
     "output_type": "display_data"
    }
   ],
   "source": [
    "drug_concentrations=np.linspace(0,20,50)\n",
    "drug_response_1=[drug_death_rate(death_rates['A'],c,1,3) for c in drug_concentrations]\n",
    "drug_response_2=[drug_death_rate(death_rates['A'],c,5,3) for c in drug_concentrations]\n",
    "drug_response_3=[drug_death_rate(death_rates['A'],c,10,3) for c in drug_concentrations]\n",
    "plt.plot(drug_concentrations,drug_response_1,label='IC50=1')\n",
    "plt.plot(drug_concentrations,drug_response_2,label='IC50=5')\n",
    "plt.plot(drug_concentrations,drug_response_3,label='IC50=10')\n",
    "plt.xscale('log')\n",
    "plt.legend()\n",
    "plt.xlabel('Drug concentration')\n",
    "plt.ylabel('Death rate')\n",
    "plt.show()"
   ]
  },
  {
   "cell_type": "markdown",
   "id": "b596260f",
   "metadata": {},
   "source": [
    "Let's assume in the following that types A and B are equally sensitive to the drugs, with IC50=1 for both drugs, but that C is more resistant to the drug affecting birth rates (with IC50=5) and completely resistant to the drug affecting death rates (IC50=100). Let's simulate what happens after we administer adjuvant therapy at C=1 for both drugs."
   ]
  },
  {
   "cell_type": "code",
   "execution_count": 23,
   "id": "439268f4",
   "metadata": {},
   "outputs": [
    {
     "name": "stdout",
     "output_type": "stream",
     "text": [
      "['A', 'B', 'C']\n",
      "birth rates with drugs:  {'A': 3.1746031746031745e-05, 'B': 3.1746031746031745e-05, 'C': 0.0026666666666666666}\n",
      "death rates with drugs:  {'A': 0.0864, 'B': 0.0864, 'C': 0.0003472875}\n"
     ]
    }
   ],
   "source": [
    "cell_types=list(sim.pop_distribution().keys())\n",
    "print(cell_types)\n",
    "IC50_levels_targeted_drug={'A':1,'B':1,'C':10}\n",
    "IC50_levels_chemo={'A':1,'B':1,'C':100}\n",
    "concentration_targeted=5\n",
    "concentration_chemo=5\n",
    "new_birth_rates={cell_type:drug_birth_rate(birth_rates[cell_type],concentration_targeted,\\\n",
    "                                           IC50_levels_targeted_drug[cell_type],3) for cell_type in cell_types}\n",
    "print('birth rates with drugs: ',new_birth_rates)\n",
    "new_death_rates={cell_type:drug_death_rate(death_rates[cell_type],concentration_chemo,\\\n",
    "                                           IC50_levels_chemo[cell_type],3) for cell_type in cell_types}\n",
    "print('death rates with drugs: ',new_death_rates)"
   ]
  },
  {
   "cell_type": "markdown",
   "id": "8a20ea82",
   "metadata": {},
   "source": [
    "We will now administer this combination treatment over 6 months, recording every month."
   ]
  },
  {
   "cell_type": "code",
   "execution_count": 24,
   "id": "9db5fc19",
   "metadata": {},
   "outputs": [],
   "source": [
    "_,adjuvant=sim.evolve(max_sim_time = 30*6,recording_interval = 30,birth_rates = new_birth_rates,\\\n",
    "                    death_rates=new_death_rates,mut_probs=mut_probs)"
   ]
  },
  {
   "cell_type": "code",
   "execution_count": 25,
   "id": "021014d0",
   "metadata": {},
   "outputs": [
    {
     "data": {
      "text/html": [
       "<div>\n",
       "<style scoped>\n",
       "    .dataframe tbody tr th:only-of-type {\n",
       "        vertical-align: middle;\n",
       "    }\n",
       "\n",
       "    .dataframe tbody tr th {\n",
       "        vertical-align: top;\n",
       "    }\n",
       "\n",
       "    .dataframe thead th {\n",
       "        text-align: right;\n",
       "    }\n",
       "</style>\n",
       "<table border=\"1\" class=\"dataframe\">\n",
       "  <thead>\n",
       "    <tr style=\"text-align: right;\">\n",
       "      <th></th>\n",
       "      <th>A</th>\n",
       "      <th>B</th>\n",
       "      <th>C</th>\n",
       "    </tr>\n",
       "    <tr>\n",
       "      <th>Time</th>\n",
       "      <th></th>\n",
       "      <th></th>\n",
       "      <th></th>\n",
       "    </tr>\n",
       "  </thead>\n",
       "  <tbody>\n",
       "    <tr>\n",
       "      <th>6283.284261</th>\n",
       "      <td>1004691</td>\n",
       "      <td>2128</td>\n",
       "      <td>409</td>\n",
       "    </tr>\n",
       "    <tr>\n",
       "      <th>6313.284261</th>\n",
       "      <td>75196</td>\n",
       "      <td>157</td>\n",
       "      <td>433</td>\n",
       "    </tr>\n",
       "    <tr>\n",
       "      <th>6343.284261</th>\n",
       "      <td>5629</td>\n",
       "      <td>12</td>\n",
       "      <td>462</td>\n",
       "    </tr>\n",
       "    <tr>\n",
       "      <th>6373.284261</th>\n",
       "      <td>404</td>\n",
       "      <td>0</td>\n",
       "      <td>503</td>\n",
       "    </tr>\n",
       "    <tr>\n",
       "      <th>6403.284261</th>\n",
       "      <td>30</td>\n",
       "      <td>0</td>\n",
       "      <td>547</td>\n",
       "    </tr>\n",
       "    <tr>\n",
       "      <th>6433.284261</th>\n",
       "      <td>5</td>\n",
       "      <td>0</td>\n",
       "      <td>588</td>\n",
       "    </tr>\n",
       "    <tr>\n",
       "      <th>6463.284261</th>\n",
       "      <td>1</td>\n",
       "      <td>0</td>\n",
       "      <td>631</td>\n",
       "    </tr>\n",
       "  </tbody>\n",
       "</table>\n",
       "</div>"
      ],
      "text/plain": [
       "                   A     B    C\n",
       "Time                           \n",
       "6283.284261  1004691  2128  409\n",
       "6313.284261    75196   157  433\n",
       "6343.284261     5629    12  462\n",
       "6373.284261      404     0  503\n",
       "6403.284261       30     0  547\n",
       "6433.284261        5     0  588\n",
       "6463.284261        1     0  631"
      ]
     },
     "execution_count": 25,
     "metadata": {},
     "output_type": "execute_result"
    }
   ],
   "source": [
    "adjuvant"
   ]
  },
  {
   "cell_type": "code",
   "execution_count": 26,
   "id": "3fbd399a",
   "metadata": {},
   "outputs": [
    {
     "data": {
      "image/png": "[encoded data removed]",
      "text/plain": [
       "<Figure size 576x360 with 1 Axes>"
      ]
     },
     "metadata": {
      "needs_background": "light"
     },
     "output_type": "display_data"
    }
   ],
   "source": [
    "sim.plot_any_time_course_clonal(adjuvant,scale='log')"
   ]
  },
  {
   "cell_type": "code",
   "execution_count": 27,
   "id": "4d9373ac",
   "metadata": {},
   "outputs": [
    {
     "data": {
      "image/png": "[encoded data removed]",
      "text/plain": [
       "<Figure size 576x360 with 1 Axes>"
      ]
     },
     "metadata": {
      "needs_background": "light"
     },
     "output_type": "display_data"
    }
   ],
   "source": [
    "sim.plot_any_time_course_total(adjuvant,scale='log')"
   ]
  },
  {
   "cell_type": "code",
   "execution_count": 28,
   "id": "a1b72126",
   "metadata": {},
   "outputs": [
    {
     "data": {
      "text/plain": [
       "632"
      ]
     },
     "execution_count": 28,
     "metadata": {},
     "output_type": "execute_result"
    }
   ],
   "source": [
    "sim.pop_total()"
   ]
  },
  {
   "cell_type": "markdown",
   "id": "42f3ac75",
   "metadata": {},
   "source": [
    "At this point, the population is low enough that we are very unlikely to be able to see any remaining tumor cells. So we stop the adjuvant therapy and keep monitoring the patient. Let's keep checking on the patient once every 6 months for the next 20 years. This time, since the patient is under observation, we will set a detection limit of 10^7 cells."
   ]
  },
  {
   "cell_type": "code",
   "execution_count": 29,
   "id": "29200e3d",
   "metadata": {},
   "outputs": [],
   "source": [
    "_,post_adjuvant=sim.evolve(max_sim_time = 15*365,recording_interval = 6*30,birth_rates = birth_rates,death_rates=death_rates,\\\n",
    "           mut_probs=mut_probs,detection_threshold=10**7)"
   ]
  },
  {
   "cell_type": "code",
   "execution_count": 30,
   "id": "609a255f",
   "metadata": {},
   "outputs": [
    {
     "data": {
      "text/plain": [
       "10050556"
      ]
     },
     "execution_count": 30,
     "metadata": {},
     "output_type": "execute_result"
    }
   ],
   "source": [
    "sim.pop_total()"
   ]
  },
  {
   "cell_type": "code",
   "execution_count": 31,
   "id": "41c01ae0",
   "metadata": {},
   "outputs": [
    {
     "data": {
      "text/html": [
       "<div>\n",
       "<style scoped>\n",
       "    .dataframe tbody tr th:only-of-type {\n",
       "        vertical-align: middle;\n",
       "    }\n",
       "\n",
       "    .dataframe tbody tr th {\n",
       "        vertical-align: top;\n",
       "    }\n",
       "\n",
       "    .dataframe thead th {\n",
       "        text-align: right;\n",
       "    }\n",
       "</style>\n",
       "<table border=\"1\" class=\"dataframe\">\n",
       "  <thead>\n",
       "    <tr style=\"text-align: right;\">\n",
       "      <th></th>\n",
       "      <th>A</th>\n",
       "      <th>B</th>\n",
       "      <th>C</th>\n",
       "    </tr>\n",
       "    <tr>\n",
       "      <th>Time</th>\n",
       "      <th></th>\n",
       "      <th></th>\n",
       "      <th></th>\n",
       "    </tr>\n",
       "  </thead>\n",
       "  <tbody>\n",
       "    <tr>\n",
       "      <th>17.707628</th>\n",
       "      <td>1</td>\n",
       "      <td>0</td>\n",
       "      <td>631</td>\n",
       "    </tr>\n",
       "    <tr>\n",
       "      <th>18.200779</th>\n",
       "      <td>6</td>\n",
       "      <td>0</td>\n",
       "      <td>982</td>\n",
       "    </tr>\n",
       "    <tr>\n",
       "      <th>18.693929</th>\n",
       "      <td>16</td>\n",
       "      <td>0</td>\n",
       "      <td>1636</td>\n",
       "    </tr>\n",
       "    <tr>\n",
       "      <th>19.187080</th>\n",
       "      <td>28</td>\n",
       "      <td>0</td>\n",
       "      <td>2739</td>\n",
       "    </tr>\n",
       "    <tr>\n",
       "      <th>19.680231</th>\n",
       "      <td>48</td>\n",
       "      <td>0</td>\n",
       "      <td>4437</td>\n",
       "    </tr>\n",
       "    <tr>\n",
       "      <th>20.173382</th>\n",
       "      <td>75</td>\n",
       "      <td>0</td>\n",
       "      <td>7319</td>\n",
       "    </tr>\n",
       "    <tr>\n",
       "      <th>20.666532</th>\n",
       "      <td>150</td>\n",
       "      <td>0</td>\n",
       "      <td>11949</td>\n",
       "    </tr>\n",
       "    <tr>\n",
       "      <th>21.159683</th>\n",
       "      <td>280</td>\n",
       "      <td>1</td>\n",
       "      <td>19537</td>\n",
       "    </tr>\n",
       "    <tr>\n",
       "      <th>21.652834</th>\n",
       "      <td>527</td>\n",
       "      <td>3</td>\n",
       "      <td>31690</td>\n",
       "    </tr>\n",
       "    <tr>\n",
       "      <th>22.145984</th>\n",
       "      <td>948</td>\n",
       "      <td>7</td>\n",
       "      <td>51203</td>\n",
       "    </tr>\n",
       "    <tr>\n",
       "      <th>22.639135</th>\n",
       "      <td>1779</td>\n",
       "      <td>20</td>\n",
       "      <td>83313</td>\n",
       "    </tr>\n",
       "    <tr>\n",
       "      <th>23.132286</th>\n",
       "      <td>3520</td>\n",
       "      <td>38</td>\n",
       "      <td>135660</td>\n",
       "    </tr>\n",
       "    <tr>\n",
       "      <th>23.625436</th>\n",
       "      <td>6762</td>\n",
       "      <td>70</td>\n",
       "      <td>220378</td>\n",
       "    </tr>\n",
       "    <tr>\n",
       "      <th>24.118587</th>\n",
       "      <td>12723</td>\n",
       "      <td>157</td>\n",
       "      <td>358585</td>\n",
       "    </tr>\n",
       "    <tr>\n",
       "      <th>24.611738</th>\n",
       "      <td>24261</td>\n",
       "      <td>350</td>\n",
       "      <td>582785</td>\n",
       "    </tr>\n",
       "    <tr>\n",
       "      <th>25.104888</th>\n",
       "      <td>46204</td>\n",
       "      <td>768</td>\n",
       "      <td>947537</td>\n",
       "    </tr>\n",
       "    <tr>\n",
       "      <th>25.598039</th>\n",
       "      <td>87833</td>\n",
       "      <td>1570</td>\n",
       "      <td>1543205</td>\n",
       "    </tr>\n",
       "    <tr>\n",
       "      <th>26.091190</th>\n",
       "      <td>167850</td>\n",
       "      <td>3182</td>\n",
       "      <td>2507116</td>\n",
       "    </tr>\n",
       "    <tr>\n",
       "      <th>26.584340</th>\n",
       "      <td>320891</td>\n",
       "      <td>6369</td>\n",
       "      <td>4074957</td>\n",
       "    </tr>\n",
       "    <tr>\n",
       "      <th>27.077491</th>\n",
       "      <td>612547</td>\n",
       "      <td>12468</td>\n",
       "      <td>6623597</td>\n",
       "    </tr>\n",
       "    <tr>\n",
       "      <th>27.399412</th>\n",
       "      <td>933916</td>\n",
       "      <td>19574</td>\n",
       "      <td>9097066</td>\n",
       "    </tr>\n",
       "  </tbody>\n",
       "</table>\n",
       "</div>"
      ],
      "text/plain": [
       "                A      B        C\n",
       "Time                             \n",
       "17.707628       1      0      631\n",
       "18.200779       6      0      982\n",
       "18.693929      16      0     1636\n",
       "19.187080      28      0     2739\n",
       "19.680231      48      0     4437\n",
       "20.173382      75      0     7319\n",
       "20.666532     150      0    11949\n",
       "21.159683     280      1    19537\n",
       "21.652834     527      3    31690\n",
       "22.145984     948      7    51203\n",
       "22.639135    1779     20    83313\n",
       "23.132286    3520     38   135660\n",
       "23.625436    6762     70   220378\n",
       "24.118587   12723    157   358585\n",
       "24.611738   24261    350   582785\n",
       "25.104888   46204    768   947537\n",
       "25.598039   87833   1570  1543205\n",
       "26.091190  167850   3182  2507116\n",
       "26.584340  320891   6369  4074957\n",
       "27.077491  612547  12468  6623597\n",
       "27.399412  933916  19574  9097066"
      ]
     },
     "execution_count": 31,
     "metadata": {},
     "output_type": "execute_result"
    }
   ],
   "source": [
    "sim.convert_time(post_adjuvant,'days_to_years')"
   ]
  },
  {
   "cell_type": "markdown",
   "id": "2d1c7ebb",
   "metadata": {},
   "source": [
    "So in this case there was a recurrence after 9 years that is now largely resistant to the two original drugs that we used. Let's have a look at the entire time course from tumor initiation through the recurrence detection:"
   ]
  },
  {
   "cell_type": "code",
   "execution_count": 32,
   "id": "3f2f92f6",
   "metadata": {},
   "outputs": [
    {
     "data": {
      "text/html": [
       "<div>\n",
       "<style scoped>\n",
       "    .dataframe tbody tr th:only-of-type {\n",
       "        vertical-align: middle;\n",
       "    }\n",
       "\n",
       "    .dataframe tbody tr th {\n",
       "        vertical-align: top;\n",
       "    }\n",
       "\n",
       "    .dataframe thead th {\n",
       "        text-align: right;\n",
       "    }\n",
       "</style>\n",
       "<table border=\"1\" class=\"dataframe\">\n",
       "  <thead>\n",
       "    <tr style=\"text-align: right;\">\n",
       "      <th></th>\n",
       "      <th>A</th>\n",
       "      <th>B</th>\n",
       "      <th>C</th>\n",
       "    </tr>\n",
       "    <tr>\n",
       "      <th>Time</th>\n",
       "      <th></th>\n",
       "      <th></th>\n",
       "      <th></th>\n",
       "    </tr>\n",
       "  </thead>\n",
       "  <tbody>\n",
       "    <tr>\n",
       "      <th>0.000000</th>\n",
       "      <td>1</td>\n",
       "      <td>0</td>\n",
       "      <td>0</td>\n",
       "    </tr>\n",
       "    <tr>\n",
       "      <th>1.000000</th>\n",
       "      <td>3</td>\n",
       "      <td>0</td>\n",
       "      <td>0</td>\n",
       "    </tr>\n",
       "    <tr>\n",
       "      <th>2.000000</th>\n",
       "      <td>19</td>\n",
       "      <td>0</td>\n",
       "      <td>0</td>\n",
       "    </tr>\n",
       "    <tr>\n",
       "      <th>3.000000</th>\n",
       "      <td>75</td>\n",
       "      <td>0</td>\n",
       "      <td>0</td>\n",
       "    </tr>\n",
       "    <tr>\n",
       "      <th>4.000000</th>\n",
       "      <td>304</td>\n",
       "      <td>0</td>\n",
       "      <td>0</td>\n",
       "    </tr>\n",
       "    <tr>\n",
       "      <th>5.000000</th>\n",
       "      <td>1072</td>\n",
       "      <td>0</td>\n",
       "      <td>0</td>\n",
       "    </tr>\n",
       "    <tr>\n",
       "      <th>6.000000</th>\n",
       "      <td>4027</td>\n",
       "      <td>3</td>\n",
       "      <td>0</td>\n",
       "    </tr>\n",
       "    <tr>\n",
       "      <th>7.000000</th>\n",
       "      <td>15163</td>\n",
       "      <td>8</td>\n",
       "      <td>0</td>\n",
       "    </tr>\n",
       "    <tr>\n",
       "      <th>8.000000</th>\n",
       "      <td>56477</td>\n",
       "      <td>29</td>\n",
       "      <td>8</td>\n",
       "    </tr>\n",
       "    <tr>\n",
       "      <th>9.000000</th>\n",
       "      <td>209616</td>\n",
       "      <td>188</td>\n",
       "      <td>42</td>\n",
       "    </tr>\n",
       "    <tr>\n",
       "      <th>10.000000</th>\n",
       "      <td>779522</td>\n",
       "      <td>818</td>\n",
       "      <td>193</td>\n",
       "    </tr>\n",
       "    <tr>\n",
       "      <th>11.000000</th>\n",
       "      <td>2898839</td>\n",
       "      <td>3640</td>\n",
       "      <td>904</td>\n",
       "    </tr>\n",
       "    <tr>\n",
       "      <th>12.000000</th>\n",
       "      <td>10784311</td>\n",
       "      <td>15127</td>\n",
       "      <td>3855</td>\n",
       "    </tr>\n",
       "    <tr>\n",
       "      <th>13.000000</th>\n",
       "      <td>40084019</td>\n",
       "      <td>62906</td>\n",
       "      <td>15161</td>\n",
       "    </tr>\n",
       "    <tr>\n",
       "      <th>14.000000</th>\n",
       "      <td>149079917</td>\n",
       "      <td>253981</td>\n",
       "      <td>59750</td>\n",
       "    </tr>\n",
       "    <tr>\n",
       "      <th>15.000000</th>\n",
       "      <td>554100966</td>\n",
       "      <td>1023938</td>\n",
       "      <td>230679</td>\n",
       "    </tr>\n",
       "    <tr>\n",
       "      <th>16.000000</th>\n",
       "      <td>2057190360</td>\n",
       "      <td>4107723</td>\n",
       "      <td>873386</td>\n",
       "    </tr>\n",
       "    <tr>\n",
       "      <th>17.000000</th>\n",
       "      <td>7603305355</td>\n",
       "      <td>16295346</td>\n",
       "      <td>3276017</td>\n",
       "    </tr>\n",
       "    <tr>\n",
       "      <th>17.214203</th>\n",
       "      <td>10046106144</td>\n",
       "      <td>21838705</td>\n",
       "      <td>4338415</td>\n",
       "    </tr>\n",
       "    <tr>\n",
       "      <th>17.214477</th>\n",
       "      <td>1004691</td>\n",
       "      <td>2128</td>\n",
       "      <td>409</td>\n",
       "    </tr>\n",
       "    <tr>\n",
       "      <th>17.296669</th>\n",
       "      <td>75196</td>\n",
       "      <td>157</td>\n",
       "      <td>433</td>\n",
       "    </tr>\n",
       "    <tr>\n",
       "      <th>17.378861</th>\n",
       "      <td>5629</td>\n",
       "      <td>12</td>\n",
       "      <td>462</td>\n",
       "    </tr>\n",
       "    <tr>\n",
       "      <th>17.461053</th>\n",
       "      <td>404</td>\n",
       "      <td>0</td>\n",
       "      <td>503</td>\n",
       "    </tr>\n",
       "    <tr>\n",
       "      <th>17.543245</th>\n",
       "      <td>30</td>\n",
       "      <td>0</td>\n",
       "      <td>547</td>\n",
       "    </tr>\n",
       "    <tr>\n",
       "      <th>17.625436</th>\n",
       "      <td>5</td>\n",
       "      <td>0</td>\n",
       "      <td>588</td>\n",
       "    </tr>\n",
       "    <tr>\n",
       "      <th>17.707628</th>\n",
       "      <td>1</td>\n",
       "      <td>0</td>\n",
       "      <td>631</td>\n",
       "    </tr>\n",
       "    <tr>\n",
       "      <th>18.200779</th>\n",
       "      <td>6</td>\n",
       "      <td>0</td>\n",
       "      <td>982</td>\n",
       "    </tr>\n",
       "    <tr>\n",
       "      <th>18.693929</th>\n",
       "      <td>16</td>\n",
       "      <td>0</td>\n",
       "      <td>1636</td>\n",
       "    </tr>\n",
       "    <tr>\n",
       "      <th>19.187080</th>\n",
       "      <td>28</td>\n",
       "      <td>0</td>\n",
       "      <td>2739</td>\n",
       "    </tr>\n",
       "    <tr>\n",
       "      <th>19.680231</th>\n",
       "      <td>48</td>\n",
       "      <td>0</td>\n",
       "      <td>4437</td>\n",
       "    </tr>\n",
       "    <tr>\n",
       "      <th>20.173382</th>\n",
       "      <td>75</td>\n",
       "      <td>0</td>\n",
       "      <td>7319</td>\n",
       "    </tr>\n",
       "    <tr>\n",
       "      <th>20.666532</th>\n",
       "      <td>150</td>\n",
       "      <td>0</td>\n",
       "      <td>11949</td>\n",
       "    </tr>\n",
       "    <tr>\n",
       "      <th>21.159683</th>\n",
       "      <td>280</td>\n",
       "      <td>1</td>\n",
       "      <td>19537</td>\n",
       "    </tr>\n",
       "    <tr>\n",
       "      <th>21.652834</th>\n",
       "      <td>527</td>\n",
       "      <td>3</td>\n",
       "      <td>31690</td>\n",
       "    </tr>\n",
       "    <tr>\n",
       "      <th>22.145984</th>\n",
       "      <td>948</td>\n",
       "      <td>7</td>\n",
       "      <td>51203</td>\n",
       "    </tr>\n",
       "    <tr>\n",
       "      <th>22.639135</th>\n",
       "      <td>1779</td>\n",
       "      <td>20</td>\n",
       "      <td>83313</td>\n",
       "    </tr>\n",
       "    <tr>\n",
       "      <th>23.132286</th>\n",
       "      <td>3520</td>\n",
       "      <td>38</td>\n",
       "      <td>135660</td>\n",
       "    </tr>\n",
       "    <tr>\n",
       "      <th>23.625436</th>\n",
       "      <td>6762</td>\n",
       "      <td>70</td>\n",
       "      <td>220378</td>\n",
       "    </tr>\n",
       "    <tr>\n",
       "      <th>24.118587</th>\n",
       "      <td>12723</td>\n",
       "      <td>157</td>\n",
       "      <td>358585</td>\n",
       "    </tr>\n",
       "    <tr>\n",
       "      <th>24.611738</th>\n",
       "      <td>24261</td>\n",
       "      <td>350</td>\n",
       "      <td>582785</td>\n",
       "    </tr>\n",
       "    <tr>\n",
       "      <th>25.104888</th>\n",
       "      <td>46204</td>\n",
       "      <td>768</td>\n",
       "      <td>947537</td>\n",
       "    </tr>\n",
       "    <tr>\n",
       "      <th>25.598039</th>\n",
       "      <td>87833</td>\n",
       "      <td>1570</td>\n",
       "      <td>1543205</td>\n",
       "    </tr>\n",
       "    <tr>\n",
       "      <th>26.091190</th>\n",
       "      <td>167850</td>\n",
       "      <td>3182</td>\n",
       "      <td>2507116</td>\n",
       "    </tr>\n",
       "    <tr>\n",
       "      <th>26.584340</th>\n",
       "      <td>320891</td>\n",
       "      <td>6369</td>\n",
       "      <td>4074957</td>\n",
       "    </tr>\n",
       "    <tr>\n",
       "      <th>27.077491</th>\n",
       "      <td>612547</td>\n",
       "      <td>12468</td>\n",
       "      <td>6623597</td>\n",
       "    </tr>\n",
       "    <tr>\n",
       "      <th>27.399412</th>\n",
       "      <td>933916</td>\n",
       "      <td>19574</td>\n",
       "      <td>9097066</td>\n",
       "    </tr>\n",
       "  </tbody>\n",
       "</table>\n",
       "</div>"
      ],
      "text/plain": [
       "                     A         B        C\n",
       "Time                                     \n",
       "0.000000             1         0        0\n",
       "1.000000             3         0        0\n",
       "2.000000            19         0        0\n",
       "3.000000            75         0        0\n",
       "4.000000           304         0        0\n",
       "5.000000          1072         0        0\n",
       "6.000000          4027         3        0\n",
       "7.000000         15163         8        0\n",
       "8.000000         56477        29        8\n",
       "9.000000        209616       188       42\n",
       "10.000000       779522       818      193\n",
       "11.000000      2898839      3640      904\n",
       "12.000000     10784311     15127     3855\n",
       "13.000000     40084019     62906    15161\n",
       "14.000000    149079917    253981    59750\n",
       "15.000000    554100966   1023938   230679\n",
       "16.000000   2057190360   4107723   873386\n",
       "17.000000   7603305355  16295346  3276017\n",
       "17.214203  10046106144  21838705  4338415\n",
       "17.214477      1004691      2128      409\n",
       "17.296669        75196       157      433\n",
       "17.378861         5629        12      462\n",
       "17.461053          404         0      503\n",
       "17.543245           30         0      547\n",
       "17.625436            5         0      588\n",
       "17.707628            1         0      631\n",
       "18.200779            6         0      982\n",
       "18.693929           16         0     1636\n",
       "19.187080           28         0     2739\n",
       "19.680231           48         0     4437\n",
       "20.173382           75         0     7319\n",
       "20.666532          150         0    11949\n",
       "21.159683          280         1    19537\n",
       "21.652834          527         3    31690\n",
       "22.145984          948         7    51203\n",
       "22.639135         1779        20    83313\n",
       "23.132286         3520        38   135660\n",
       "23.625436         6762        70   220378\n",
       "24.118587        12723       157   358585\n",
       "24.611738        24261       350   582785\n",
       "25.104888        46204       768   947537\n",
       "25.598039        87833      1570  1543205\n",
       "26.091190       167850      3182  2507116\n",
       "26.584340       320891      6369  4074957\n",
       "27.077491       612547     12468  6623597\n",
       "27.399412       933916     19574  9097066"
      ]
     },
     "execution_count": 32,
     "metadata": {},
     "output_type": "execute_result"
    }
   ],
   "source": [
    "sim.convert_time(sim.get_full_time_course(),'days_to_years')"
   ]
  },
  {
   "cell_type": "markdown",
   "id": "371234d8",
   "metadata": {},
   "source": [
    "We can plot this time course (as well as any part of it - see documentation for details):"
   ]
  },
  {
   "cell_type": "code",
   "execution_count": 33,
   "id": "8cd66455",
   "metadata": {},
   "outputs": [
    {
     "data": {
      "image/png": "[encoded data removed]",
      "text/plain": [
       "<Figure size 576x360 with 1 Axes>"
      ]
     },
     "metadata": {
      "needs_background": "light"
     },
     "output_type": "display_data"
    }
   ],
   "source": [
    "sim.plot_full_time_course_clonal(scale='log',time_conversion='days_to_years')"
   ]
  },
  {
   "cell_type": "markdown",
   "id": "c8c8e744",
   "metadata": {},
   "source": [
    "We can see clearly that resection with adjuvant therapy reduced the overall tumor population, but since there was a residual C population after adjuvant therapy, these cells kept growing, eventually also giving rise to A and B cells via mutations, and dominating the tumor when the recurrence is finally detected 9 years after the termination of adjuvant therapy."
   ]
  },
  {
   "cell_type": "markdown",
   "id": "6a9d0c14",
   "metadata": {},
   "source": [
    "Let's look at how the diversity changed over time."
   ]
  },
  {
   "cell_type": "code",
   "execution_count": 34,
   "id": "43792928",
   "metadata": {},
   "outputs": [],
   "source": [
    "shannon_df=sim.convert_time(sim.diversity_full_time_course(index='shannon'),'days_to_years')\n",
    "simpson_df=sim.convert_time(sim.diversity_full_time_course(index='simpson'),'days_to_years')\n",
    "gini_simpson_df=sim.convert_time(sim.diversity_full_time_course(index='gini-simpson'),'days_to_years')\n",
    "gini_df=sim.convert_time(sim.diversity_full_time_course(index='gini'),'days_to_years')"
   ]
  },
  {
   "cell_type": "code",
   "execution_count": 35,
   "id": "42da9069",
   "metadata": {},
   "outputs": [
    {
     "data": {
      "image/png": "[encoded data removed]",
      "text/plain": [
       "<Figure size 576x432 with 1 Axes>"
      ]
     },
     "metadata": {
      "needs_background": "light"
     },
     "output_type": "display_data"
    }
   ],
   "source": [
    "plt.figure(figsize=(8,6))\n",
    "plt.plot(shannon_df.index,shannon_df['shannon'],label='Shannon')\n",
    "plt.plot(simpson_df.index,simpson_df['simpson'],label='Simpson')\n",
    "plt.plot(gini_simpson_df.index,gini_simpson_df['gini-simpson'],label='Gini-Simpson')\n",
    "plt.plot(gini_df.index,gini_df['gini'],label='Gini')\n",
    "plt.legend(bbox_to_anchor=(1.05, 1.0))\n",
    "plt.xlabel('Time (years)')\n",
    "plt.ylabel('Index')\n",
    "plt.yscale('log')\n",
    "plt.show()"
   ]
  },
  {
   "cell_type": "markdown",
   "id": "6e9d1b32",
   "metadata": {},
   "source": [
    "Or we can plot them each separately:"
   ]
  },
  {
   "cell_type": "code",
   "execution_count": 36,
   "id": "f941b53a",
   "metadata": {},
   "outputs": [
    {
     "data": {
      "image/png": "[encoded data removed]",
      "text/plain": [
       "<Figure size 720x576 with 4 Axes>"
      ]
     },
     "metadata": {
      "needs_background": "light"
     },
     "output_type": "display_data"
    }
   ],
   "source": [
    "fig, axs = plt.subplots(2, 2,figsize=(10,8))\n",
    "axs[0, 0].plot(shannon_df.index,shannon_df['shannon'])\n",
    "axs[0, 0].set_title('Shannon')\n",
    "axs[0, 1].plot(simpson_df.index,simpson_df['simpson'])\n",
    "axs[0, 1].set_title('Simpson')\n",
    "axs[1, 0].plot(gini_simpson_df.index,gini_simpson_df['gini-simpson'])\n",
    "axs[1, 0].set_title('Gini-Simpson')\n",
    "axs[1, 1].plot(gini_df.index,gini_df['gini'])\n",
    "axs[1, 1].set_title('Gini')\n",
    "\n",
    "for ax in axs.flat:\n",
    "    ax.set(xlabel='Time (years)', ylabel='Index')\n",
    "    #ax.set_yscale('log')\n",
    "\n",
    "plt.tight_layout()\n",
    "plt.show()"
   ]
  },
  {
   "cell_type": "code",
   "execution_count": null,
   "id": "e580d70c",
   "metadata": {},
   "outputs": [],
   "source": []
  }
 ],
 "metadata": {
  "kernelspec": {
   "display_name": "Python 3",
   "language": "python",
   "name": "python3"
  },
  "language_info": {
   "codemirror_mode": {
    "name": "ipython",
    "version": 3
   },
   "file_extension": ".py",
   "mimetype": "text/x-python",
   "name": "python",
   "nbconvert_exporter": "python",
   "pygments_lexer": "ipython3",
   "version": "3.8.8"
  }
 },
 "nbformat": 4,
 "nbformat_minor": 5
}
