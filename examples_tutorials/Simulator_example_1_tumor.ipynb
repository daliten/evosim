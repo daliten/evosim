{
 "cells": [
  {
   "cell_type": "markdown",
   "id": "7fd8d0de",
   "metadata": {},
   "source": [
    "# _evosim_ Simulator mode example 1: tumor evolution and progression\n",
    "### In this example, we will evolve a heterogeneous tumor starting from a single cell, resect it upon detection, administer adjuvant therapy, and continue periodically monitoring it thereafter. This example showcases some of the main functionalities of the Simulator (single-run) mode.\n",
    "Note: No pharmacokinetic modeling is used here, so that drug concentrations are assumed to reach all cells at their stated concentrations. Pharmacokinetic modeling can be implemented into the drug response if desired."
   ]
  },
  {
   "cell_type": "code",
   "execution_count": null,
   "id": "ee42eff1",
   "metadata": {},
   "outputs": [],
   "source": [
    "# these are not necessary for evosim functionalities, but we will use them elsewhere in the \n",
    "#tutorial to visualize some of the results\n",
    "import matplotlib.pyplot as plt\n",
    "import numpy as np\n",
    "import random"
   ]
  },
  {
   "cell_type": "code",
   "execution_count": null,
   "id": "21dc5be3",
   "metadata": {},
   "outputs": [],
   "source": [
    "#Included here for reproducibility\n",
    "np.random.seed(7)\n",
    "random.seed(2)"
   ]
  },
  {
   "cell_type": "code",
   "execution_count": null,
   "id": "4af1d71c",
   "metadata": {},
   "outputs": [],
   "source": [
    "# import the Simulator module\n",
    "from evosim import Simulator"
   ]
  },
  {
   "cell_type": "code",
   "execution_count": null,
   "id": "be99b83c",
   "metadata": {},
   "outputs": [],
   "source": [
    "sim=Simulator()"
   ]
  },
  {
   "cell_type": "markdown",
   "id": "e84a6eb3",
   "metadata": {},
   "source": [
    "We will simulate the growth of a tumor from a single cell. We will refer to this phenotype as 'A'. Here, we will assume that a maximum of 2 inheritable alterations can occur and hence the system can have up to 3 total cell phenotypes; we will refer to the mutant phenotypes as 'B' and 'C'.\n",
    "\n",
    "We first need to define the initial population configuration:"
   ]
  },
  {
   "cell_type": "code",
   "execution_count": null,
   "id": "1a363b3e",
   "metadata": {},
   "outputs": [],
   "source": [
    "initial_subpopulations = {'A':1,'B':0,'C':0}"
   ]
  },
  {
   "cell_type": "markdown",
   "id": "88fc2b0e",
   "metadata": {},
   "source": [
    "We can choose to also specify the simulation method (extended-time leaping or the SSA) and the leaping threshold (for extended-time leaping). By default these parameters will default to leaping with a threshold of 10^2. We will go with the defaults here and initialize our population; see commented-out code for alternatives. \n",
    "\n",
    "We can also specify an environmental carrying capacity, which will lead to logistic growth at high population levels. By default this is set to 10^18 to avoid overflow errors.\n",
    "\n",
    "By default, anything following the initialize() call will be saved to a default \"results\" folder, but if setting \"new_folder\" to True the results will be saved to a separate time-stamped folder. This is suggested when different configurations are of interest and multiple runs are expected."
   ]
  },
  {
   "cell_type": "code",
   "execution_count": null,
   "id": "7c58744f",
   "metadata": {},
   "outputs": [],
   "source": [
    "sim.initialize(initial_subpopulations, carrying_capacity=10**12, new_folder=True)\n",
    "#sim.initialize(initial_subpopulations)\n",
    "#sim.initialize(pop_structure=initial_subpopulations)\n",
    "#sim.initialize(initial_subpopulations, method='leaping')\n",
    "#sim.initialize(initial_subpopulations, method='leaping',leap_threshold=10**3)\n",
    "#sim.initialize(initial_subpopulations, method='SSA')"
   ]
  },
  {
   "cell_type": "markdown",
   "id": "b86fba21",
   "metadata": {},
   "source": [
    "Now that we have specified the basic setup, we can set and change the rates that determine its evolution over time. The minimal information that we must specify at every stage of evolution are the birth (division) and death rates of each of the phenotypes allowable in the system ('A', 'B', and 'C') and the probabilities of mutation between them.\n",
    "\n",
    "We will begin by assuming that as the tumor is growing B has a neutral advantage and C is somewhat disadvantaged through a lower birth rate. The rates that we specify must be in inverse expected time for a cell to divide (die). Here we will use days as our base time unit."
   ]
  },
  {
   "cell_type": "code",
   "execution_count": null,
   "id": "ff10784e",
   "metadata": {},
   "outputs": [],
   "source": [
    "birth_rates={'A':0.004,'B':0.004,'C':0.003}\n",
    "death_rates = {'A':0.0004,'B':0.0004,'C':0.0003}"
   ]
  },
  {
   "cell_type": "markdown",
   "id": "a15c0b06",
   "metadata": {},
   "source": [
    "Next, we must specify the probability of mutations, A->B, A->C, B->C, and the reverse. These probabilities represent the probability that a given mutation will occur in any particular cell division. Here we will assume that forward and backward mutations are just as likely, and that A->B is a more frequently occurring mutation that B->C or A->C."
   ]
  },
  {
   "cell_type": "code",
   "execution_count": null,
   "id": "b9bb9fce",
   "metadata": {},
   "outputs": [],
   "source": [
    "MUT_PROB_AB=10**(-4) #mutation probability is probability of mutation occurring in a given division\n",
    "MUT_PROB_AC=10**(-4)\n",
    "MUT_PROB_BC=10**(-4)\n",
    "mut_probs={'A': {'B': MUT_PROB_AB,'C':MUT_PROB_AC}, 'B': {'A':MUT_PROB_AB,'C':MUT_PROB_BC},\\\n",
    "           'C': {'A': MUT_PROB_AC,'B':MUT_PROB_BC}} #change if want fewer or more species"
   ]
  },
  {
   "cell_type": "markdown",
   "id": "094462bc",
   "metadata": {},
   "source": [
    "This is all the required information we need to set up the simulation, but we can also specify a detection threshold if we are interested in stopping the simulation at a certain total population size. This is useful for simulating tumors up to a certain size (at which point they may be clinically detectable). This stopping point is not exact, as there are multiple events taking place per leap and the population size is only checked every leap.\n",
    "\n",
    "Lastly, we need to specify the total simulation time in the same units as the birth and death rates. Here we will evolve the tumor for 20 years or until it has reached a size of at least 10^9 cells. We will record the population distribution every year."
   ]
  },
  {
   "cell_type": "code",
   "execution_count": null,
   "id": "125c5aad",
   "metadata": {},
   "outputs": [],
   "source": [
    "_,tumor_growth=sim.evolve(max_sim_time = 20*365,recording_interval = 365,birth_rates = birth_rates,\\\n",
    "                        death_rates=death_rates,mut_probs=mut_probs,detection_threshold=10**10)\n",
    "#NOTE: calls to evolve() must use keyword arguments. This is the only such function in Simulator() and EnsembleSimulator()."
   ]
  },
  {
   "cell_type": "markdown",
   "id": "2bfd32bc",
   "metadata": {},
   "source": [
    "This will generate a table of the different cell type population levels at each time point. Note that when starting from a single cell, some runs will result in the death of that cell without further evolution (as would be biologically expected), and hence due to stochasticity several runs may be needed in order to reach a critically growing tumor. To rerun, first rerun the initialize call, or the simulation will attempt to start at the zero-population level."
   ]
  },
  {
   "cell_type": "code",
   "execution_count": null,
   "id": "e36500c8",
   "metadata": {},
   "outputs": [],
   "source": [
    "tumor_growth"
   ]
  },
  {
   "cell_type": "markdown",
   "id": "a10018bb",
   "metadata": {},
   "source": [
    "But seeing decades in days isn't very helpful. Let's convert the time to years."
   ]
  },
  {
   "cell_type": "code",
   "execution_count": null,
   "id": "984c491d",
   "metadata": {},
   "outputs": [],
   "source": [
    "sim.convert_time(tumor_growth,'days_to_years')"
   ]
  },
  {
   "cell_type": "markdown",
   "id": "ca7d2aba",
   "metadata": {},
   "source": [
    "Let's look at the total population after this simulation:"
   ]
  },
  {
   "cell_type": "code",
   "execution_count": null,
   "id": "419b89e9",
   "metadata": {},
   "outputs": [],
   "source": [
    "sim.pop_total()"
   ]
  },
  {
   "cell_type": "markdown",
   "id": "e6436506",
   "metadata": {},
   "source": [
    "Or the distribution at the last time point:"
   ]
  },
  {
   "cell_type": "code",
   "execution_count": null,
   "id": "bcf651a3",
   "metadata": {},
   "outputs": [],
   "source": [
    "sim.pop_distribution()"
   ]
  },
  {
   "cell_type": "markdown",
   "id": "60f2124b",
   "metadata": {},
   "source": [
    "We can also compute the current diversity of the population according to a selected diversity index."
   ]
  },
  {
   "cell_type": "code",
   "execution_count": null,
   "id": "efb39987",
   "metadata": {},
   "outputs": [],
   "source": [
    "print('Current Shannon index is ',sim.diversity('shannon'))\n",
    "print('Current Simpson index is ',sim.diversity('simpson'))\n",
    "print('Current Gini-Simpson index is ',sim.diversity('gini-simpson'))\n",
    "print('Current Gini index is ',sim.diversity('gini'))\n",
    "print('Current Renyi entropy for q=3 is ',sim.renyi_entropy(3))\n",
    "print('Current Renyi entropy for q=7 is ',sim.renyi_entropy(7))"
   ]
  },
  {
   "cell_type": "markdown",
   "id": "fbafdb30",
   "metadata": {},
   "source": [
    "If this is the size of the tumor detected, then we might want to resect it prior to treatment. If we think there may be some small residual cell population of e.g. 0.01% of the original population, we can use the perform_dilution function to sample it, where we input the final population. Let's suppose the resection takes a couple of hours, so that we set the actual time that the dilution takes to 0.1 days."
   ]
  },
  {
   "cell_type": "code",
   "execution_count": null,
   "id": "46a290af",
   "metadata": {},
   "outputs": [],
   "source": [
    "sim.perform_dilution(0.0001*sim.pop_total(),dilution_time=0.1)"
   ]
  },
  {
   "cell_type": "markdown",
   "id": "5c0c98d0",
   "metadata": {},
   "source": [
    "We can see the population is much smaller now:"
   ]
  },
  {
   "cell_type": "code",
   "execution_count": null,
   "id": "758c8912",
   "metadata": {},
   "outputs": [],
   "source": [
    "sim.pop_total()"
   ]
  },
  {
   "cell_type": "code",
   "execution_count": null,
   "id": "0c95dd82",
   "metadata": {},
   "outputs": [],
   "source": [
    "sim.pop_distribution()"
   ]
  },
  {
   "cell_type": "markdown",
   "id": "eb1d81b4",
   "metadata": {},
   "source": [
    "We can now administer adjuvant treatment. Suppose that we use two drugs in combination, a drug which has the effect of increasing the cell death rates and a drug that affects the division rates. We will assume a simple Hill-type dependence on the drug concentration C (at the tumor), in arbitrary drug units, in the case of the birth rate, and the dependence shown below for the death rates."
   ]
  },
  {
   "cell_type": "code",
   "execution_count": null,
   "id": "345fab85",
   "metadata": {},
   "outputs": [],
   "source": [
    "def Hill_eqn(C,IC50,n):\n",
    "    return 1/(1+(C/IC50)**n)\n",
    "def drug_birth_rate(drug_free_birth_rate,C,IC50,n):\n",
    "    return drug_free_birth_rate*Hill_eqn(C,IC50,n)\n",
    "def drug_death_rate(drug_free_death_rate,C,IC50,n):\n",
    "    return drug_free_death_rate*(1+C/IC50)**n"
   ]
  },
  {
   "cell_type": "markdown",
   "id": "92aa0364",
   "metadata": {},
   "source": [
    "Let's plot the dose-response curve for a few different choices of Hill exponent, while noting that this is for birth/death rates only rather than total growth."
   ]
  },
  {
   "cell_type": "code",
   "execution_count": null,
   "id": "375b33ba",
   "metadata": {},
   "outputs": [],
   "source": [
    "drug_concentrations=np.linspace(0,20,50)\n",
    "drug_response_1=[drug_birth_rate(birth_rates['A'],c,1,1) for c in drug_concentrations]\n",
    "drug_response_2=[drug_birth_rate(birth_rates['A'],c,1,2) for c in drug_concentrations]\n",
    "drug_response_3=[drug_birth_rate(birth_rates['A'],c,1,3) for c in drug_concentrations]\n",
    "plt.plot(drug_concentrations,drug_response_1,label='n=1')\n",
    "plt.plot(drug_concentrations,drug_response_2,label='n=2')\n",
    "plt.plot(drug_concentrations,drug_response_3,label='n=3')\n",
    "plt.xscale('log')\n",
    "plt.legend()\n",
    "plt.xlabel('Drug concentration')\n",
    "plt.ylabel('Birth rate')\n",
    "plt.show()"
   ]
  },
  {
   "cell_type": "markdown",
   "id": "5e0353f3",
   "metadata": {},
   "source": [
    "We will stick with n=3 here. Let's look at how different values of IC50 (sensitivity) affect the birth rate for type A."
   ]
  },
  {
   "cell_type": "code",
   "execution_count": null,
   "id": "7333a577",
   "metadata": {},
   "outputs": [],
   "source": [
    "drug_concentrations=np.linspace(0,20,50)\n",
    "drug_response_1=[drug_birth_rate(birth_rates['A'],c,1,3) for c in drug_concentrations]\n",
    "drug_response_2=[drug_birth_rate(birth_rates['A'],c,5,3) for c in drug_concentrations]\n",
    "drug_response_3=[drug_birth_rate(birth_rates['A'],c,10,3) for c in drug_concentrations]\n",
    "plt.plot(drug_concentrations,drug_response_1,label='IC50=1')\n",
    "plt.plot(drug_concentrations,drug_response_2,label='IC50=5')\n",
    "plt.plot(drug_concentrations,drug_response_3,label='IC50=10')\n",
    "plt.xscale('log')\n",
    "plt.legend()\n",
    "plt.xlabel('Drug concentration')\n",
    "plt.ylabel('Birth rate')\n",
    "plt.show()"
   ]
  },
  {
   "cell_type": "code",
   "execution_count": null,
   "id": "ec850152",
   "metadata": {},
   "outputs": [],
   "source": [
    "drug_concentrations=np.linspace(0,20,50)\n",
    "drug_response_1=[drug_death_rate(death_rates['A'],c,1,3) for c in drug_concentrations]\n",
    "drug_response_2=[drug_death_rate(death_rates['A'],c,5,3) for c in drug_concentrations]\n",
    "drug_response_3=[drug_death_rate(death_rates['A'],c,10,3) for c in drug_concentrations]\n",
    "plt.plot(drug_concentrations,drug_response_1,label='IC50=1')\n",
    "plt.plot(drug_concentrations,drug_response_2,label='IC50=5')\n",
    "plt.plot(drug_concentrations,drug_response_3,label='IC50=10')\n",
    "plt.xscale('log')\n",
    "plt.legend()\n",
    "plt.xlabel('Drug concentration')\n",
    "plt.ylabel('Death rate')\n",
    "plt.show()"
   ]
  },
  {
   "cell_type": "markdown",
   "id": "b596260f",
   "metadata": {},
   "source": [
    "Let's assume in the following that types A and B are equally sensitive to the drugs, with IC50=1 for both drugs, but that C is more resistant to the drug affecting birth rates (with IC50=5) and completely resistant to the drug affecting death rates (IC50=100). Let's simulate what happens after we administer adjuvant therapy at C=1 for both drugs."
   ]
  },
  {
   "cell_type": "code",
   "execution_count": null,
   "id": "439268f4",
   "metadata": {},
   "outputs": [],
   "source": [
    "cell_types=list(sim.pop_distribution().keys())\n",
    "print(cell_types)\n",
    "IC50_levels_targeted_drug={'A':1,'B':1,'C':10}\n",
    "IC50_levels_chemo={'A':1,'B':1,'C':100}\n",
    "concentration_targeted=5\n",
    "concentration_chemo=5\n",
    "new_birth_rates={cell_type:drug_birth_rate(birth_rates[cell_type],concentration_targeted,\\\n",
    "                                           IC50_levels_targeted_drug[cell_type],3) for cell_type in cell_types}\n",
    "print('birth rates with drugs: ',new_birth_rates)\n",
    "new_death_rates={cell_type:drug_death_rate(death_rates[cell_type],concentration_chemo,\\\n",
    "                                           IC50_levels_chemo[cell_type],3) for cell_type in cell_types}\n",
    "print('death rates with drugs: ',new_death_rates)"
   ]
  },
  {
   "cell_type": "markdown",
   "id": "8a20ea82",
   "metadata": {},
   "source": [
    "We will now administer this combination treatment over 6 months, recording every month."
   ]
  },
  {
   "cell_type": "code",
   "execution_count": null,
   "id": "9db5fc19",
   "metadata": {},
   "outputs": [],
   "source": [
    "_,adjuvant=sim.evolve(max_sim_time = 30*6,recording_interval = 30,birth_rates = new_birth_rates,\\\n",
    "                    death_rates=new_death_rates,mut_probs=mut_probs)"
   ]
  },
  {
   "cell_type": "code",
   "execution_count": null,
   "id": "021014d0",
   "metadata": {},
   "outputs": [],
   "source": [
    "adjuvant"
   ]
  },
  {
   "cell_type": "code",
   "execution_count": null,
   "id": "3fbd399a",
   "metadata": {},
   "outputs": [],
   "source": [
    "sim.plot_any_time_course_clonal(adjuvant,scale='log')"
   ]
  },
  {
   "cell_type": "code",
   "execution_count": null,
   "id": "4d9373ac",
   "metadata": {},
   "outputs": [],
   "source": [
    "sim.plot_any_time_course_total(adjuvant,scale='log')"
   ]
  },
  {
   "cell_type": "code",
   "execution_count": null,
   "id": "a1b72126",
   "metadata": {},
   "outputs": [],
   "source": [
    "sim.pop_total()"
   ]
  },
  {
   "cell_type": "markdown",
   "id": "42f3ac75",
   "metadata": {},
   "source": [
    "At this point, the population is low enough that we are very unlikely to be able to see any remaining tumor cells. So we stop the adjuvant therapy and keep monitoring the patient. Let's keep checking on the patient once every 6 months for the next 20 years. This time, since the patient is under observation, we will set a detection limit of 10^7 cells."
   ]
  },
  {
   "cell_type": "code",
   "execution_count": null,
   "id": "29200e3d",
   "metadata": {},
   "outputs": [],
   "source": [
    "_,post_adjuvant=sim.evolve(max_sim_time = 15*365,recording_interval = 6*30,birth_rates = birth_rates,death_rates=death_rates,\\\n",
    "           mut_probs=mut_probs,detection_threshold=10**7)"
   ]
  },
  {
   "cell_type": "code",
   "execution_count": null,
   "id": "609a255f",
   "metadata": {},
   "outputs": [],
   "source": [
    "sim.pop_total()"
   ]
  },
  {
   "cell_type": "code",
   "execution_count": null,
   "id": "41c01ae0",
   "metadata": {},
   "outputs": [],
   "source": [
    "sim.convert_time(post_adjuvant,'days_to_years')"
   ]
  },
  {
   "cell_type": "markdown",
   "id": "2d1c7ebb",
   "metadata": {},
   "source": [
    "So in this case there was a recurrence after 9 years that is now largely resistant to the two original drugs that we used. Let's have a look at the entire time course from tumor initiation through the recurrence detection:"
   ]
  },
  {
   "cell_type": "code",
   "execution_count": null,
   "id": "3f2f92f6",
   "metadata": {},
   "outputs": [],
   "source": [
    "sim.convert_time(sim.get_full_time_course(),'days_to_years')"
   ]
  },
  {
   "cell_type": "markdown",
   "id": "371234d8",
   "metadata": {},
   "source": [
    "We can plot this time course (as well as any part of it - see documentation for details):"
   ]
  },
  {
   "cell_type": "code",
   "execution_count": null,
   "id": "8cd66455",
   "metadata": {},
   "outputs": [],
   "source": [
    "sim.plot_full_time_course_clonal(scale='log',time_conversion='days_to_years')"
   ]
  },
  {
   "cell_type": "markdown",
   "id": "c8c8e744",
   "metadata": {},
   "source": [
    "We can see clearly that resection with adjuvant therapy reduced the overall tumor population, but since there was a residual C population after adjuvant therapy, these cells kept growing, eventually also giving rise to A and B cells via mutations, and dominating the tumor when the recurrence is finally detected 9 years after the termination of adjuvant therapy."
   ]
  },
  {
   "cell_type": "markdown",
   "id": "6a9d0c14",
   "metadata": {},
   "source": [
    "Let's look at how the diversity changed over time."
   ]
  },
  {
   "cell_type": "code",
   "execution_count": null,
   "id": "43792928",
   "metadata": {},
   "outputs": [],
   "source": [
    "shannon_df=sim.convert_time(sim.diversity_full_time_course(index='shannon'),'days_to_years')\n",
    "simpson_df=sim.convert_time(sim.diversity_full_time_course(index='simpson'),'days_to_years')\n",
    "gini_simpson_df=sim.convert_time(sim.diversity_full_time_course(index='gini-simpson'),'days_to_years')\n",
    "gini_df=sim.convert_time(sim.diversity_full_time_course(index='gini'),'days_to_years')"
   ]
  },
  {
   "cell_type": "code",
   "execution_count": null,
   "id": "42da9069",
   "metadata": {},
   "outputs": [],
   "source": [
    "plt.figure(figsize=(8,6))\n",
    "plt.plot(shannon_df.index,shannon_df['shannon'],label='Shannon')\n",
    "plt.plot(simpson_df.index,simpson_df['simpson'],label='Simpson')\n",
    "plt.plot(gini_simpson_df.index,gini_simpson_df['gini-simpson'],label='Gini-Simpson')\n",
    "plt.plot(gini_df.index,gini_df['gini'],label='Gini')\n",
    "plt.legend(bbox_to_anchor=(1.05, 1.0))\n",
    "plt.xlabel('Time (years)')\n",
    "plt.ylabel('Index')\n",
    "plt.yscale('log')\n",
    "plt.show()"
   ]
  },
  {
   "cell_type": "markdown",
   "id": "6e9d1b32",
   "metadata": {},
   "source": [
    "Or we can plot them each separately:"
   ]
  },
  {
   "cell_type": "code",
   "execution_count": null,
   "id": "f941b53a",
   "metadata": {},
   "outputs": [],
   "source": [
    "fig, axs = plt.subplots(2, 2,figsize=(10,8))\n",
    "axs[0, 0].plot(shannon_df.index,shannon_df['shannon'])\n",
    "axs[0, 0].set_title('Shannon')\n",
    "axs[0, 1].plot(simpson_df.index,simpson_df['simpson'])\n",
    "axs[0, 1].set_title('Simpson')\n",
    "axs[1, 0].plot(gini_simpson_df.index,gini_simpson_df['gini-simpson'])\n",
    "axs[1, 0].set_title('Gini-Simpson')\n",
    "axs[1, 1].plot(gini_df.index,gini_df['gini'])\n",
    "axs[1, 1].set_title('Gini')\n",
    "\n",
    "for ax in axs.flat:\n",
    "    ax.set(xlabel='Time (years)', ylabel='Index')\n",
    "    #ax.set_yscale('log')\n",
    "\n",
    "plt.tight_layout()\n",
    "plt.show()"
   ]
  },
  {
   "cell_type": "code",
   "execution_count": null,
   "id": "e580d70c",
   "metadata": {},
   "outputs": [],
   "source": []
  }
 ],
 "metadata": {
  "kernelspec": {
   "display_name": "Python 3",
   "language": "python",
   "name": "python3"
  },
  "language_info": {
   "codemirror_mode": {
    "name": "ipython",
    "version": 3
   },
   "file_extension": ".py",
   "mimetype": "text/x-python",
   "name": "python",
   "nbconvert_exporter": "python",
   "pygments_lexer": "ipython3",
   "version": "3.8.8"
  }
 },
 "nbformat": 4,
 "nbformat_minor": 5
}
